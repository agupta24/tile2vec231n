{
 "cells": [
  {
   "cell_type": "markdown",
   "metadata": {},
   "source": [
    "# Imports + Path Specification"
   ]
  },
  {
   "cell_type": "code",
   "execution_count": 1,
   "metadata": {},
   "outputs": [],
   "source": [
    "import sys\n",
    "import os\n",
    "import torch\n",
    "from torch import optim\n",
    "from time import time\n",
    "import random"
   ]
  },
  {
   "cell_type": "code",
   "execution_count": 2,
   "metadata": {},
   "outputs": [],
   "source": [
    "tile2vec_dir = '/home/agupta21/gcloud/231n_gitproject' # Uncomment for anshul\n",
    "# tile2vec_dir = '/home/shailimonchik/project' # Uncomment for Shai\n",
    "sys.path.append('../')\n",
    "sys.path.append(tile2vec_dir)"
   ]
  },
  {
   "cell_type": "code",
   "execution_count": 3,
   "metadata": {},
   "outputs": [],
   "source": [
    "from src.datasets import TileTripletsDataset, GetBands, RandomFlipAndRotate, ClipAndScale, ToFloatTensor, triplet_dataloader\n",
    "from src.tilenet import make_tilenet"
   ]
  },
  {
   "cell_type": "code",
   "execution_count": 4,
   "metadata": {},
   "outputs": [],
   "source": [
    "from src.training import prep_triplets, train_triplet_epoch"
   ]
  },
  {
   "cell_type": "code",
   "execution_count": 5,
   "metadata": {},
   "outputs": [],
   "source": [
    "import numpy as np\n",
    "from torch.autograd import Variable\n",
    "import sys\n",
    "from src.resnet import ResNet18"
   ]
  },
  {
   "cell_type": "code",
   "execution_count": 6,
   "metadata": {},
   "outputs": [],
   "source": [
    "#Random Forest Classification\n",
    "\n",
    "from sklearn.preprocessing import LabelEncoder\n",
    "from sklearn.ensemble import RandomForestClassifier\n",
    "from sklearn.model_selection import train_test_split"
   ]
  },
  {
   "cell_type": "markdown",
   "metadata": {},
   "source": [
    "# Dataloader + TileNet Setup"
   ]
  },
  {
   "cell_type": "code",
   "execution_count": 7,
   "metadata": {},
   "outputs": [
    {
     "name": "stdout",
     "output_type": "stream",
     "text": [
      "True\n"
     ]
    }
   ],
   "source": [
    "# Environment stuff\n",
    "os.environ['CUDA_VISIBLE_DEVICES'] = '0'\n",
    "cuda = torch.cuda.is_available()\n",
    "print(cuda)"
   ]
  },
  {
   "cell_type": "code",
   "execution_count": 8,
   "metadata": {},
   "outputs": [],
   "source": [
    "# Defining Parameters\n",
    "img_type = 'naip'\n",
    "tile_dir = '/home/agupta21/gcloud/231n_gitproject/data/triplets/'\n",
    "bands = 4\n",
    "augment = False\n",
    "batch_size = 50\n",
    "shuffle = True\n",
    "num_workers = 4\n",
    "n_triplets = 100000"
   ]
  },
  {
   "cell_type": "code",
   "execution_count": 9,
   "metadata": {},
   "outputs": [
    {
     "name": "stdout",
     "output_type": "stream",
     "text": [
      "Dataloader set up complete.\n"
     ]
    }
   ],
   "source": [
    "dataloader = triplet_dataloader(img_type, tile_dir, bands=bands, augment=augment,\n",
    "                                batch_size=batch_size, shuffle=shuffle, num_workers=num_workers, \n",
    "                                n_triplets=n_triplets, pairs_only=True)\n",
    "print('Dataloader set up complete.')"
   ]
  },
  {
   "cell_type": "code",
   "execution_count": 10,
   "metadata": {},
   "outputs": [
    {
     "name": "stdout",
     "output_type": "stream",
     "text": [
      "10000\n",
      "10000\n",
      "65539\n"
     ]
    }
   ],
   "source": [
    "#generate list\n",
    "random.seed(21)\n",
    "randList = []\n",
    "while len(randList)!= 10000:\n",
    "    randIndex = random.randint(0,99999)\n",
    "    if randIndex not in randList:\n",
    "        randList.append(randIndex)\n",
    "print(len(randList))\n",
    "\n",
    "randSet = set(randList)\n",
    "print(len(randSet))\n",
    "print(list(randSet)[0]) #65339"
   ]
  },
  {
   "cell_type": "code",
   "execution_count": 11,
   "metadata": {},
   "outputs": [],
   "source": [
    "# tripletsToLabels = {}\n",
    "# for idx in range(65538,100000):\n",
    "#     if idx in randSet:\n",
    "#         #do shit\n",
    "#         part1 = \"../data/triplets/\" + str(idx)\n",
    "#         anchor = np.load(part1 + \"anchor.npy\")\n",
    "#         neighbor = np.load(part1 + \"neighbor.npy\")\n",
    "#         distant = np.load(part1 + \"distant.npy\")\n",
    "#         counts_anchor = np.bincount(anchor[:,:,4].reshape(2500,))\n",
    "#         anchor_label = np.argmax(counts_anchor)\n",
    "#         counts_nei = np.bincount(neighbor[:,:,4].reshape(2500,))\n",
    "#         neighbor_label = np.argmax(counts_nei)\n",
    "#         counts_distant = np.bincount(distant[:,:,4].reshape(2500,))\n",
    "#         distant_label = np.argmax(counts_distant)\n",
    "#         tripletsToLabels[idx] = (anchor_label, neighbor_label, distant_label)\n",
    "#     if idx == 65539:\n",
    "#         print(anchor_label,neighbor_label,distant_label)\n",
    "        \n",
    "#         print('Key is {}, Labels are {}'.format(idx, tripletsToLabels[idx]))\n",
    "#     if idx % 10000 == 0:\n",
    "#         print('idx is {}'.format(idx))\n",
    "# print(len(tripletsToLabels))"
   ]
  },
  {
   "cell_type": "code",
   "execution_count": 12,
   "metadata": {},
   "outputs": [],
   "source": [
    "# #Get set of all values:\n",
    "# allVals = set()\n",
    "# for idx in range(100000):\n",
    "#     if idx % 1000 == 0:\n",
    "#         print(idx)\n",
    "#     part1 = \"../data/triplets/\" + str(idx)\n",
    "#     anchor = np.load(part1 + \"anchor.npy\")\n",
    "#     neighbor = np.load(part1 + \"neighbor.npy\")\n",
    "#     distant = np.load(part1 + \"distant.npy\")\n",
    "#     counts_anchor = np.bincount(anchor[:,:,4].reshape(2500,))\n",
    "#     anchor_label = np.argmax(counts_anchor)\n",
    "#     counts_nei = np.bincount(neighbor[:,:,4].reshape(2500,))\n",
    "#     neighbor_label = np.argmax(counts_nei)\n",
    "#     counts_distant = np.bincount(distant[:,:,4].reshape(2500,))\n",
    "#     distant_label = np.argmax(counts_distant)\n",
    "#     allVals.add(anchor_label)\n",
    "#     allVals.add(neighbor_label)\n",
    "#     allVals.add(distant_label)\n",
    "# print(len(allVals))\n",
    "# print(allVals)"
   ]
  },
  {
   "cell_type": "code",
   "execution_count": 13,
   "metadata": {},
   "outputs": [
    {
     "name": "stdout",
     "output_type": "stream",
     "text": [
      "{1, 2, 3, 131, 4, 12, 141, 142, 21, 22, 23, 24, 152, 27, 28, 33, 36, 37, 41, 42, 43, 44, 176, 49, 48, 53, 54, 59, 61, 190, 66, 67, 195, 69, 71, 72, 74, 75, 76, 205, 204, 206, 208, 77, 209, 211, 212, 213, 216, 217, 218, 220, 225, 226, 227, 236, 237, 111, 242, 121, 122, 123, 124}\n",
      "[ 0  1  2 38  3  4 39 40  5  6  7  8 41  9 10 11 12 13 14 15 16 17 42 19\n",
      " 18 20 21 22 23 43 24 25 44 26 27 28 29 30 31 46 45 47 48 32 49 50 51 52\n",
      " 53 54 55 56 57 58 59 60 61 33 62 34 35 36 37]\n",
      "{0, 1, 2, 3, 4, 5, 6, 7, 8, 9, 10, 11, 12, 13, 14, 15, 16, 17, 18, 19, 20, 21, 22, 23, 24, 25, 26, 27, 28, 29, 30, 31, 32, 33, 34, 35, 36, 37, 38, 39, 40, 41, 42, 43, 44, 45, 46, 47, 48, 49, 50, 51, 52, 53, 54, 55, 56, 57, 58, 59, 60, 61, 62}\n"
     ]
    }
   ],
   "source": [
    "#Transform the dict: \n",
    "allVals = {1, 2, 131, 4, 3, 12, 141, 142, 21, 22, 23, 24, 152, 27, 28, 33, 36, 37, 41, 42, 43, 44, 176, 49, 48, 53, 54, 59, 61, 190, 66, 67, 195, 69, 71, 72, 74, 75, 76, 205, 204, 206, 208, 77, 209, 211, 212, 213, 216, 217, 218, 220, 225, 226, 227, 236, 237, 111, 242, 121, 122, 123, 124}\n",
    "print(set(allVals))\n",
    "le = LabelEncoder()\n",
    "transformedLabels = le.fit_transform(list(allVals))\n",
    "print(transformedLabels)\n",
    "print(set(transformedLabels))\n"
   ]
  },
  {
   "cell_type": "code",
   "execution_count": 14,
   "metadata": {},
   "outputs": [],
   "source": [
    "# tile_dir = '../data/tiles'\n",
    "# n_tiles = 1000\n",
    "# y = np.load(os.path.join(tile_dir, 'y.npy'))\n",
    "# print(y.shape)\n",
    "# print(set(y))\n"
   ]
  },
  {
   "cell_type": "code",
   "execution_count": 15,
   "metadata": {},
   "outputs": [],
   "source": [
    "# for i in set(y):\n",
    "#     val = int(i)\n",
    "#     if val not in allVals:\n",
    "#         print(\"Crushing\")"
   ]
  },
  {
   "cell_type": "code",
   "execution_count": 16,
   "metadata": {},
   "outputs": [],
   "source": [
    "# #DO NOT RUN THIS ANYMORE\n",
    "# f = open('tripletsToLabels2', 'w')\n",
    "# f.write(str(tripletsToLabels))\n",
    "# f.close()"
   ]
  },
  {
   "cell_type": "code",
   "execution_count": 17,
   "metadata": {},
   "outputs": [
    {
     "name": "stdout",
     "output_type": "stream",
     "text": [
      "10000\n",
      "(123, 69, 69)\n"
     ]
    }
   ],
   "source": [
    "tempDict = eval(open('tripletsToLabels', 'r').read())\n",
    "print(len(tempDict))\n",
    "\n",
    "print(tempDict[65539])"
   ]
  },
  {
   "cell_type": "code",
   "execution_count": 18,
   "metadata": {},
   "outputs": [
    {
     "name": "stdout",
     "output_type": "stream",
     "text": [
      "61\n"
     ]
    }
   ],
   "source": [
    "#DONT RUN THIS AGAIN!!!!! (actually you can )\n",
    "for key, value in tempDict.items():\n",
    "    value2 = le.transform(value)\n",
    "    tempDict[key] = value2\n",
    "maxVal = 0\n",
    "for key, value in tempDict.items():\n",
    "    maxP = max(value)\n",
    "    if maxP > maxVal:\n",
    "        maxVal = maxP\n",
    "print(maxVal)"
   ]
  },
  {
   "cell_type": "code",
   "execution_count": 19,
   "metadata": {},
   "outputs": [],
   "source": [
    "in_channels = bands\n",
    "z_dim = 512"
   ]
  },
  {
   "cell_type": "code",
   "execution_count": 20,
   "metadata": {},
   "outputs": [
    {
     "name": "stdout",
     "output_type": "stream",
     "text": [
      "TileNet set up complete.\n"
     ]
    }
   ],
   "source": [
    "TileNet = make_tilenet(in_channels=in_channels, z_dim=z_dim, strat2=True, dictionary_labels=tempDict, idx_include=randSet)\n",
    "TileNet.train()\n",
    "if cuda: TileNet.cuda()\n",
    "print('TileNet set up complete.')"
   ]
  },
  {
   "cell_type": "code",
   "execution_count": 21,
   "metadata": {},
   "outputs": [],
   "source": [
    "#Hyperparameter \n",
    "lr = 1e-3\n",
    "optimizer = optim.Adam(TileNet.parameters(), lr=lr, betas=(0.5, 0.999))"
   ]
  },
  {
   "cell_type": "markdown",
   "metadata": {},
   "source": [
    "# Training Model + Writing Each Epoch to File"
   ]
  },
  {
   "cell_type": "code",
   "execution_count": 22,
   "metadata": {},
   "outputs": [],
   "source": [
    "epochs = 12\n",
    "margin = 10\n",
    "l2 = 0.01\n",
    "print_every = 10000\n",
    "save_models = True"
   ]
  },
  {
   "cell_type": "code",
   "execution_count": 23,
   "metadata": {},
   "outputs": [],
   "source": [
    "model_dir = '/home/agupta21/gcloud/231n_gitproject/models/'\n",
    "if not os.path.exists(model_dir): os.makedirs(model_dir)"
   ]
  },
  {
   "cell_type": "code",
   "execution_count": 24,
   "metadata": {},
   "outputs": [
    {
     "name": "stdout",
     "output_type": "stream",
     "text": [
      "Begin training.................\n"
     ]
    },
    {
     "name": "stderr",
     "output_type": "stream",
     "text": [
      "Traceback (most recent call last):\n",
      "  File \"/opt/anaconda3/lib/python3.7/multiprocessing/queues.py\", line 242, in _feed\n",
      "    send_bytes(obj)\n",
      "  File \"/opt/anaconda3/lib/python3.7/multiprocessing/connection.py\", line 200, in send_bytes\n",
      "    self._send_bytes(m[offset:offset + size])\n",
      "  File \"/opt/anaconda3/lib/python3.7/multiprocessing/connection.py\", line 404, in _send_bytes\n",
      "    self._send(header + buf)\n",
      "  File \"/opt/anaconda3/lib/python3.7/multiprocessing/connection.py\", line 368, in _send\n",
      "    n = write(self._handle, buf)\n",
      "BrokenPipeError: [Errno 32] Broken pipe\n",
      "Traceback (most recent call last):\n",
      "  File \"/opt/anaconda3/lib/python3.7/multiprocessing/queues.py\", line 242, in _feed\n",
      "    send_bytes(obj)\n",
      "  File \"/opt/anaconda3/lib/python3.7/multiprocessing/connection.py\", line 200, in send_bytes\n",
      "    self._send_bytes(m[offset:offset + size])\n",
      "  File \"/opt/anaconda3/lib/python3.7/multiprocessing/connection.py\", line 404, in _send_bytes\n",
      "    self._send(header + buf)\n",
      "  File \"/opt/anaconda3/lib/python3.7/multiprocessing/connection.py\", line 368, in _send\n",
      "    n = write(self._handle, buf)\n",
      "BrokenPipeError: [Errno 32] Broken pipe\n",
      "Traceback (most recent call last):\n",
      "  File \"/opt/anaconda3/lib/python3.7/multiprocessing/queues.py\", line 242, in _feed\n",
      "    send_bytes(obj)\n",
      "  File \"/opt/anaconda3/lib/python3.7/multiprocessing/connection.py\", line 200, in send_bytes\n",
      "    self._send_bytes(m[offset:offset + size])\n",
      "  File \"/opt/anaconda3/lib/python3.7/multiprocessing/connection.py\", line 404, in _send_bytes\n",
      "    self._send(header + buf)\n",
      "  File \"/opt/anaconda3/lib/python3.7/multiprocessing/connection.py\", line 368, in _send\n",
      "    n = write(self._handle, buf)\n",
      "BrokenPipeError: [Errno 32] Broken pipe\n",
      "Traceback (most recent call last):\n",
      "  File \"/opt/anaconda3/lib/python3.7/multiprocessing/queues.py\", line 242, in _feed\n",
      "    send_bytes(obj)\n",
      "  File \"/opt/anaconda3/lib/python3.7/multiprocessing/connection.py\", line 200, in send_bytes\n",
      "    self._send_bytes(m[offset:offset + size])\n",
      "  File \"/opt/anaconda3/lib/python3.7/multiprocessing/connection.py\", line 404, in _send_bytes\n",
      "    self._send(header + buf)\n",
      "  File \"/opt/anaconda3/lib/python3.7/multiprocessing/connection.py\", line 368, in _send\n",
      "    n = write(self._handle, buf)\n",
      "BrokenPipeError: [Errno 32] Broken pipe\n"
     ]
    },
    {
     "ename": "KeyboardInterrupt",
     "evalue": "",
     "output_type": "error",
     "traceback": [
      "\u001b[0;31m---------------------------------------------------------------------------\u001b[0m",
      "\u001b[0;31mKeyboardInterrupt\u001b[0m                         Traceback (most recent call last)",
      "\u001b[0;32m<ipython-input-24-0764b669fce6>\u001b[0m in \u001b[0;36m<module>\u001b[0;34m\u001b[0m\n\u001b[1;32m      8\u001b[0m     (avg_loss, avg_small,avg_l_n, avg_l_d, avg_l_nd) = train_triplet_epoch(\n\u001b[1;32m      9\u001b[0m         \u001b[0mTileNet\u001b[0m\u001b[0;34m,\u001b[0m \u001b[0mcuda\u001b[0m\u001b[0;34m,\u001b[0m \u001b[0mdataloader\u001b[0m\u001b[0;34m,\u001b[0m \u001b[0moptimizer\u001b[0m\u001b[0;34m,\u001b[0m \u001b[0mepoch\u001b[0m\u001b[0;34m+\u001b[0m\u001b[0;36m1\u001b[0m\u001b[0;34m,\u001b[0m \u001b[0mmargin\u001b[0m\u001b[0;34m=\u001b[0m\u001b[0mmargin\u001b[0m\u001b[0;34m,\u001b[0m \u001b[0ml2\u001b[0m\u001b[0;34m=\u001b[0m\u001b[0ml2\u001b[0m\u001b[0;34m,\u001b[0m\u001b[0;34m\u001b[0m\u001b[0;34m\u001b[0m\u001b[0m\n\u001b[0;32m---> 10\u001b[0;31m         print_every=print_every, t0=t0)\n\u001b[0m\u001b[1;32m     11\u001b[0m     \u001b[0mtotal_list\u001b[0m\u001b[0;34m.\u001b[0m\u001b[0mappend\u001b[0m\u001b[0;34m(\u001b[0m\u001b[0;34m(\u001b[0m\u001b[0mepoch\u001b[0m\u001b[0;34m+\u001b[0m\u001b[0;36m1\u001b[0m\u001b[0;34m,\u001b[0m\u001b[0mavg_loss\u001b[0m\u001b[0;34m)\u001b[0m\u001b[0;34m)\u001b[0m\u001b[0;34m\u001b[0m\u001b[0;34m\u001b[0m\u001b[0m\n\u001b[1;32m     12\u001b[0m     \u001b[0msmall_list\u001b[0m\u001b[0;34m.\u001b[0m\u001b[0mappend\u001b[0m\u001b[0;34m(\u001b[0m\u001b[0;34m(\u001b[0m\u001b[0mepoch\u001b[0m\u001b[0;34m+\u001b[0m\u001b[0;36m1\u001b[0m\u001b[0;34m,\u001b[0m\u001b[0mavg_small\u001b[0m\u001b[0;34m)\u001b[0m\u001b[0;34m)\u001b[0m\u001b[0;34m\u001b[0m\u001b[0;34m\u001b[0m\u001b[0m\n",
      "\u001b[0;32m~/gcloud/231n_gitproject/src/training.py\u001b[0m in \u001b[0;36mtrain_triplet_epoch\u001b[0;34m(model, cuda, dataloader, optimizer, epoch, margin, l2, print_every, t0)\u001b[0m\n\u001b[1;32m     32\u001b[0m         \u001b[0mbig_loss\u001b[0m\u001b[0;34m,\u001b[0m \u001b[0msmall_loss\u001b[0m\u001b[0;34m,\u001b[0m \u001b[0ml_n\u001b[0m\u001b[0;34m,\u001b[0m \u001b[0ml_d\u001b[0m\u001b[0;34m,\u001b[0m \u001b[0ml_nd\u001b[0m \u001b[0;34m=\u001b[0m \u001b[0mmodel\u001b[0m\u001b[0;34m.\u001b[0m\u001b[0mloss\u001b[0m\u001b[0;34m(\u001b[0m\u001b[0mp\u001b[0m\u001b[0;34m,\u001b[0m \u001b[0mn\u001b[0m\u001b[0;34m,\u001b[0m \u001b[0md\u001b[0m\u001b[0;34m,\u001b[0m \u001b[0midx\u001b[0m\u001b[0;34m,\u001b[0m\u001b[0mmargin\u001b[0m\u001b[0;34m=\u001b[0m\u001b[0mmargin\u001b[0m\u001b[0;34m,\u001b[0m\u001b[0ml2\u001b[0m\u001b[0;34m=\u001b[0m\u001b[0ml2\u001b[0m\u001b[0;34m)\u001b[0m\u001b[0;34m\u001b[0m\u001b[0;34m\u001b[0m\u001b[0m\n\u001b[1;32m     33\u001b[0m         \u001b[0;31m#print(big_loss)\u001b[0m\u001b[0;34m\u001b[0m\u001b[0;34m\u001b[0m\u001b[0;34m\u001b[0m\u001b[0m\n\u001b[0;32m---> 34\u001b[0;31m         \u001b[0mbig_loss\u001b[0m\u001b[0;34m.\u001b[0m\u001b[0mbackward\u001b[0m\u001b[0;34m(\u001b[0m\u001b[0;34m)\u001b[0m\u001b[0;34m\u001b[0m\u001b[0;34m\u001b[0m\u001b[0m\n\u001b[0m\u001b[1;32m     35\u001b[0m         \u001b[0;31m#if model.strat2:#only backprop on strat2 if using it and idx is in dict\u001b[0m\u001b[0;34m\u001b[0m\u001b[0;34m\u001b[0m\u001b[0;34m\u001b[0m\u001b[0m\n\u001b[1;32m     36\u001b[0m             \u001b[0;31m#print(\"strat 2 works\")\u001b[0m\u001b[0;34m\u001b[0m\u001b[0;34m\u001b[0m\u001b[0;34m\u001b[0m\u001b[0m\n",
      "\u001b[0;32m/opt/anaconda3/lib/python3.7/site-packages/torch/tensor.py\u001b[0m in \u001b[0;36mbackward\u001b[0;34m(self, gradient, retain_graph, create_graph)\u001b[0m\n\u001b[1;32m    100\u001b[0m                 \u001b[0mproducts\u001b[0m\u001b[0;34m.\u001b[0m \u001b[0mDefaults\u001b[0m \u001b[0mto\u001b[0m\u001b[0;31m \u001b[0m\u001b[0;31m`\u001b[0m\u001b[0;31m`\u001b[0m\u001b[0;32mFalse\u001b[0m\u001b[0;31m`\u001b[0m\u001b[0;31m`\u001b[0m\u001b[0;34m.\u001b[0m\u001b[0;34m\u001b[0m\u001b[0;34m\u001b[0m\u001b[0m\n\u001b[1;32m    101\u001b[0m         \"\"\"\n\u001b[0;32m--> 102\u001b[0;31m         \u001b[0mtorch\u001b[0m\u001b[0;34m.\u001b[0m\u001b[0mautograd\u001b[0m\u001b[0;34m.\u001b[0m\u001b[0mbackward\u001b[0m\u001b[0;34m(\u001b[0m\u001b[0mself\u001b[0m\u001b[0;34m,\u001b[0m \u001b[0mgradient\u001b[0m\u001b[0;34m,\u001b[0m \u001b[0mretain_graph\u001b[0m\u001b[0;34m,\u001b[0m \u001b[0mcreate_graph\u001b[0m\u001b[0;34m)\u001b[0m\u001b[0;34m\u001b[0m\u001b[0;34m\u001b[0m\u001b[0m\n\u001b[0m\u001b[1;32m    103\u001b[0m \u001b[0;34m\u001b[0m\u001b[0m\n\u001b[1;32m    104\u001b[0m     \u001b[0;32mdef\u001b[0m \u001b[0mregister_hook\u001b[0m\u001b[0;34m(\u001b[0m\u001b[0mself\u001b[0m\u001b[0;34m,\u001b[0m \u001b[0mhook\u001b[0m\u001b[0;34m)\u001b[0m\u001b[0;34m:\u001b[0m\u001b[0;34m\u001b[0m\u001b[0;34m\u001b[0m\u001b[0m\n",
      "\u001b[0;32m/opt/anaconda3/lib/python3.7/site-packages/torch/autograd/__init__.py\u001b[0m in \u001b[0;36mbackward\u001b[0;34m(tensors, grad_tensors, retain_graph, create_graph, grad_variables)\u001b[0m\n\u001b[1;32m     88\u001b[0m     Variable._execution_engine.run_backward(\n\u001b[1;32m     89\u001b[0m         \u001b[0mtensors\u001b[0m\u001b[0;34m,\u001b[0m \u001b[0mgrad_tensors\u001b[0m\u001b[0;34m,\u001b[0m \u001b[0mretain_graph\u001b[0m\u001b[0;34m,\u001b[0m \u001b[0mcreate_graph\u001b[0m\u001b[0;34m,\u001b[0m\u001b[0;34m\u001b[0m\u001b[0;34m\u001b[0m\u001b[0m\n\u001b[0;32m---> 90\u001b[0;31m         allow_unreachable=True)  # allow_unreachable flag\n\u001b[0m\u001b[1;32m     91\u001b[0m \u001b[0;34m\u001b[0m\u001b[0m\n\u001b[1;32m     92\u001b[0m \u001b[0;34m\u001b[0m\u001b[0m\n",
      "\u001b[0;31mKeyboardInterrupt\u001b[0m: "
     ]
    }
   ],
   "source": [
    "t0 = time()\n",
    "#with open(results_fn, 'w') as file:\n",
    "\n",
    "total_list = []\n",
    "small_list = []\n",
    "print('Begin training.................')\n",
    "for epoch in range(0, epochs):\n",
    "    (avg_loss, avg_small,avg_l_n, avg_l_d, avg_l_nd) = train_triplet_epoch(\n",
    "        TileNet, cuda, dataloader, optimizer, epoch+1, margin=margin, l2=l2,\n",
    "        print_every=print_every, t0=t0)\n",
    "    total_list.append((epoch+1,avg_loss))\n",
    "    small_list.append((epoch+1,avg_small))\n",
    "    append_name = \"strat2.0_ep\" + str(epoch+1) + \".ckpt\"\n",
    "    if save_models:\n",
    "        model_fn = os.path.join(model_dir,append_name)\n",
    "        torch.save(TileNet.state_dict(),model_fn)"
   ]
  },
  {
   "cell_type": "code",
   "execution_count": null,
   "metadata": {},
   "outputs": [],
   "source": [
    "print(total_list)\n",
    "print(small_list)\n"
   ]
  },
  {
   "cell_type": "markdown",
   "metadata": {},
   "source": [
    "# Pre Process Y Values"
   ]
  },
  {
   "cell_type": "code",
   "execution_count": 25,
   "metadata": {},
   "outputs": [
    {
     "name": "stdout",
     "output_type": "stream",
     "text": [
      "(1000,)\n"
     ]
    }
   ],
   "source": [
    "#note to self: need to embed tiles first and then figure out loop for reading in the saved model and plotting\n",
    "#the classification accuracies per epoch\n",
    "tile_dir = '../data/tiles'\n",
    "n_tiles = 1000\n",
    "y = np.load(os.path.join(tile_dir, 'y.npy'))\n",
    "print(y.shape)"
   ]
  },
  {
   "cell_type": "code",
   "execution_count": null,
   "metadata": {},
   "outputs": [],
   "source": []
  },
  {
   "cell_type": "code",
   "execution_count": 26,
   "metadata": {},
   "outputs": [
    {
     "name": "stdout",
     "output_type": "stream",
     "text": [
      "{1.0, 2.0, 21.0, 24.0, 152.0, 28.0, 36.0, 176.0, 49.0, 54.0, 61.0, 69.0, 71.0, 72.0, 75.0, 76.0, 205.0, 204.0, 208.0, 212.0, 217.0, 225.0, 236.0, 111.0, 121.0, 122.0, 123.0, 124.0}\n"
     ]
    }
   ],
   "source": [
    "# Check CDL classes\n",
    "print(set(y))"
   ]
  },
  {
   "cell_type": "code",
   "execution_count": 27,
   "metadata": {},
   "outputs": [
    {
     "name": "stdout",
     "output_type": "stream",
     "text": [
      "{0, 1, 2, 3, 4, 5, 6, 7, 8, 9, 10, 11, 12, 13, 14, 15, 16, 17, 18, 19, 20, 21, 22, 23, 24, 25, 26, 27}\n"
     ]
    }
   ],
   "source": [
    "y = le.fit_transform(y)\n",
    "print(set(y))"
   ]
  },
  {
   "cell_type": "markdown",
   "metadata": {},
   "source": [
    "# Load in Epochs' Weights + Run each on tile embeddings + Random Forest "
   ]
  },
  {
   "cell_type": "code",
   "execution_count": 28,
   "metadata": {},
   "outputs": [],
   "source": [
    "#set up model\n",
    "in_channels = 4\n",
    "z_dim = 512\n",
    "cuda = torch.cuda.is_available()"
   ]
  },
  {
   "cell_type": "code",
   "execution_count": 29,
   "metadata": {},
   "outputs": [],
   "source": [
    "def getTileEmbeddings(tilenet):\n",
    "    X = np.zeros((n_tiles, z_dim))\n",
    "    for idx in range(n_tiles):\n",
    "        tile = np.load(os.path.join(tile_dir, '{}tile.npy'.format(idx+1)))\n",
    "        # Get first 4 NAIP channels (5th is CDL mask)\n",
    "        tile = tile[:,:,:4]\n",
    "        # Rearrange to PyTorch order\n",
    "        tile = np.moveaxis(tile, -1, 0)\n",
    "        tile = np.expand_dims(tile, axis=0)\n",
    "        # Scale to [0, 1]\n",
    "        tile = tile / 255\n",
    "        # Embed tile\n",
    "        tile = torch.from_numpy(tile).float()\n",
    "        tile = Variable(tile)\n",
    "        if cuda: tile = tile.cuda()\n",
    "        z = tilenet.encode(tile)\n",
    "        if cuda: z = z.cpu()\n",
    "        z = z.data.numpy() #1 by 512\n",
    "        X[idx,:] = z\n",
    "    return X"
   ]
  },
  {
   "cell_type": "code",
   "execution_count": 30,
   "metadata": {},
   "outputs": [
    {
     "name": "stdout",
     "output_type": "stream",
     "text": [
      "Results for Epoch Number:  1\n",
      "Mean accuracy: 0.6620\n",
      "Standard deviation: 0.0302\n",
      "Results for Epoch Number:  3\n",
      "Mean accuracy: 0.6785\n",
      "Standard deviation: 0.0315\n",
      "Results for Epoch Number:  4\n",
      "Mean accuracy: 0.6781\n",
      "Standard deviation: 0.0287\n",
      "Results for Epoch Number:  5\n",
      "Mean accuracy: 0.6813\n",
      "Standard deviation: 0.0331\n",
      "Results for Epoch Number:  6\n",
      "Mean accuracy: 0.6788\n",
      "Standard deviation: 0.0291\n",
      "Results for Epoch Number:  7\n",
      "Mean accuracy: 0.6855\n",
      "Standard deviation: 0.0280\n",
      "Results for Epoch Number:  8\n",
      "Mean accuracy: 0.6853\n",
      "Standard deviation: 0.0302\n",
      "Results for Epoch Number:  9\n",
      "Mean accuracy: 0.6971\n",
      "Standard deviation: 0.0302\n",
      "Results for Epoch Number:  10\n",
      "Mean accuracy: 0.6993\n",
      "Standard deviation: 0.0293\n",
      "Results for Epoch Number:  11\n",
      "Mean accuracy: 0.6919\n",
      "Standard deviation: 0.0322\n",
      "Results for Epoch Number:  12\n",
      "Mean accuracy: 0.7024\n",
      "Standard deviation: 0.0293\n",
      "[(1, 0.66195), (2, 0.6496999999999999), (3, 0.67855), (4, 0.6781499999999998), (5, 0.6813000000000001), (6, 0.6788), (7, 0.6855), (8, 0.6853), (9, 0.6971), (10, 0.6992999999999999), (11, 0.6918500000000002), (12, 0.7024499999999999)]\n",
      "[(1, 0.03022329399651864), (2, 0.030877337968160414), (3, 0.03146660928667083), (4, 0.028676253242011916), (5, 0.03311812192742818), (6, 0.029061314491949587), (7, 0.02801338965566286), (8, 0.030230944411314693), (9, 0.030167697956589242), (10, 0.029334450736292966), (11, 0.03223084702579191), (12, 0.029312923770923968)]\n"
     ]
    }
   ],
   "source": [
    "epochsToAccuracy = []\n",
    "epochsToSTD = []\n",
    "for i in range(0,epochs): #iterator\n",
    "    curEpoch = i + 1\n",
    "    # Setting up model\n",
    "    tilenet = ResNet18()\n",
    "    if cuda: tilenet.cuda()\n",
    "    model_fn = \"../models/strat2.0_ep\"+str(curEpoch)+\".ckpt\" #open file\n",
    "    #checkpoint = torch.load(model_fn)\n",
    "    tilenet.load_state_dict(torch.load(model_fn), strict=False)\n",
    "    #tilenet.load_state_dict(checkpoint)\n",
    "    tilenet.eval()\n",
    "    \n",
    "    X = getTileEmbeddings(tilenet) #function above\n",
    "    \n",
    "    #train random forest classifier\n",
    "    n_trials = 100\n",
    "    accs = np.zeros((n_trials,))\n",
    "    for i in range(n_trials):\n",
    "        # Splitting data and training RF classifer\n",
    "        X_tr, X_te, y_tr, y_te = train_test_split(X, y, test_size=0.2)\n",
    "        rf = RandomForestClassifier(n_estimators = 100)\n",
    "        rf.fit(X_tr, y_tr) #X-tr is 512 by 1\n",
    "        accs[i] = rf.score(X_te, y_te)\n",
    "    print(\"Results for Epoch Number: \", str(curEpoch))\n",
    "    print('Mean accuracy: {:0.4f}'.format(accs.mean()))\n",
    "    print('Standard deviation: {:0.4f}'.format(accs.std()))\n",
    "    epochsToAccuracy.append((curEpoch,accs.mean()))\n",
    "    epochsToSTD.append((curEpoch,accs.std()))\n",
    "print(epochsToAccuracy)\n",
    "print(epochsToSTD)\n",
    "    #save value\n",
    "    \n",
    "    \n",
    "    \n",
    "    "
   ]
  },
  {
   "cell_type": "code",
   "execution_count": null,
   "metadata": {},
   "outputs": [],
   "source": [
    "print(epochsToSTD)"
   ]
  },
  {
   "cell_type": "code",
   "execution_count": 33,
   "metadata": {},
   "outputs": [
    {
     "data": {
      "image/png": "[encoded data removed]",
      "text/plain": [
       "<Figure size 432x288 with 1 Axes>"
      ]
     },
     "metadata": {
      "needs_background": "light"
     },
     "output_type": "display_data"
    },
    {
     "name": "stdout",
     "output_type": "stream",
     "text": [
      "0.7024499999999999 was the Max Accuracy\n"
     ]
    }
   ],
   "source": [
    "import matplotlib.pyplot as plt\n",
    "plt.plot(*zip(*epochsToAccuracy))\n",
    "plt.title('Triplet Augmentation Average Test Performance')\n",
    "plt.xlabel('Epochs')\n",
    "plt.ylabel('Accuracy')\n",
    "plt.show()\n",
    "print(epochsToAccuracy[11][1], \"was the Max Accuracy\")"
   ]
  },
  {
   "cell_type": "code",
   "execution_count": 32,
   "metadata": {},
   "outputs": [
    {
     "ename": "IndexError",
     "evalue": "list index out of range",
     "output_type": "error",
     "traceback": [
      "\u001b[0;31m---------------------------------------------------------------------------\u001b[0m",
      "\u001b[0;31mIndexError\u001b[0m                                Traceback (most recent call last)",
      "\u001b[0;32m<ipython-input-32-2ced66f72534>\u001b[0m in \u001b[0;36m<module>\u001b[0;34m\u001b[0m\n\u001b[1;32m      3\u001b[0m \u001b[0mplt\u001b[0m\u001b[0;34m.\u001b[0m\u001b[0mxlabel\u001b[0m\u001b[0;34m(\u001b[0m\u001b[0;34m'Epochs'\u001b[0m\u001b[0;34m)\u001b[0m\u001b[0;34m\u001b[0m\u001b[0;34m\u001b[0m\u001b[0m\n\u001b[1;32m      4\u001b[0m \u001b[0mplt\u001b[0m\u001b[0;34m.\u001b[0m\u001b[0mylabel\u001b[0m\u001b[0;34m(\u001b[0m\u001b[0;34m'Loss'\u001b[0m\u001b[0;34m)\u001b[0m\u001b[0;34m\u001b[0m\u001b[0;34m\u001b[0m\u001b[0m\n\u001b[0;32m----> 5\u001b[0;31m \u001b[0mprint\u001b[0m\u001b[0;34m(\u001b[0m\u001b[0;34m\"The min loss was\"\u001b[0m\u001b[0;34m,\u001b[0m\u001b[0mstr\u001b[0m\u001b[0;34m(\u001b[0m\u001b[0mtotal_list\u001b[0m\u001b[0;34m[\u001b[0m\u001b[0;36m9\u001b[0m\u001b[0;34m]\u001b[0m\u001b[0;34m[\u001b[0m\u001b[0;36m1\u001b[0m\u001b[0;34m]\u001b[0m\u001b[0;34m)\u001b[0m\u001b[0;34m)\u001b[0m\u001b[0;34m\u001b[0m\u001b[0;34m\u001b[0m\u001b[0m\n\u001b[0m\u001b[1;32m      6\u001b[0m \u001b[0mplt\u001b[0m\u001b[0;34m.\u001b[0m\u001b[0mshow\u001b[0m\u001b[0;34m(\u001b[0m\u001b[0;34m)\u001b[0m\u001b[0;34m\u001b[0m\u001b[0;34m\u001b[0m\u001b[0m\n",
      "\u001b[0;31mIndexError\u001b[0m: list index out of range"
     ]
    },
    {
     "data": {
      "image/png": "[encoded data removed]",
      "text/plain": [
       "<Figure size 432x288 with 1 Axes>"
      ]
     },
     "metadata": {
      "needs_background": "light"
     },
     "output_type": "display_data"
    }
   ],
   "source": [
    "plt.plot(*zip(*total_list))\n",
    "plt.title('Triplet Augmentation Loss Performance')\n",
    "plt.xlabel('Epochs')\n",
    "plt.ylabel('Loss')\n",
    "print(\"The min loss was\",str(total_list[9][1]))\n",
    "plt.show()"
   ]
  },
  {
   "cell_type": "code",
   "execution_count": null,
   "metadata": {},
   "outputs": [],
   "source": [
    "plt.plot(*zip(*epochsToSTD))\n",
    "plt.title('STD on Random Forest Test Prediction')\n",
    "plt.xlabel('Epochs')\n",
    "plt.ylabel('Standard Deviation')\n",
    "plt.show()"
   ]
  },
  {
   "cell_type": "markdown",
   "metadata": {},
   "source": []
  }
 ],
 "metadata": {
  "kernelspec": {
   "display_name": "Python 3",
   "language": "python",
   "name": "python3"
  },
  "language_info": {
   "codemirror_mode": {
    "name": "ipython",
    "version": 3
   },
   "file_extension": ".py",
   "mimetype": "text/x-python",
   "name": "python",
   "nbconvert_exporter": "python",
   "pygments_lexer": "ipython3",
   "version": "3.7.1"
  }
 },
 "nbformat": 4,
 "nbformat_minor": 2
}
