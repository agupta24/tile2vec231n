{
 "cells": [
  {
   "cell_type": "markdown",
   "metadata": {},
   "source": [
    "# Step 0: Initial Imports"
   ]
  },
  {
   "cell_type": "code",
   "execution_count": 1,
   "metadata": {},
   "outputs": [],
   "source": [
    "import sys\n",
    "import os\n",
    "import torch\n",
    "from torch import optim\n",
    "from time import time\n",
    "import gdal\n",
    "import numpy as np"
   ]
  },
  {
   "cell_type": "code",
   "execution_count": 2,
   "metadata": {},
   "outputs": [],
   "source": [
    "#Dict for Mapping between CDL Int Label and String Correspondence:\n",
    "CDL_dict = {0: \"Background\", 1: \"Corn\", 2: \"Cotton\", 3: \"Rice\", 4: \"Sorghum\", 5: \"Soybeans\", 6: \"Sunflower\", 10: \"Peanuts\", 11: \"Tobacco\", 12: \"Sweet Corn\", 13: \"Pop or Orn Corn\", 14: \"Mint\", 21: \"Barley\", 22: \"Durum Wheat\", 23: \"Spring Wheat\", 24: \"Winter Wheat\", 25: \"Other Small Grains\", 26: \"Dbl Crop WinWht/Soybeans\", 27: \"Rye\", 28: \"Oats\", 29: \"Millet\", 30: \"Speltz\", 31: \"Canola\", 32: \"Flaxseed\", 33: \"Safflower\", 34: \"Rape Seed\", 35: \"Mustard\", 36: \"Alfalfa\", 37: \"Other Hay/Non Alfalfa\", 38: \"Camelina\", 39: \"Buckwheat\", 41: \"Sugarbeets\", 42: \"Dry Beans\", 43: \"Potatoes\", 44: \"Other Crops\", 45: \"Sugarcane\", 46: \"Sweet Potatoes\", 47: \"Misc Vegs & Fruits\", 48: \"Watermelons\", 49: \"Onions\", 50: \"Cucumbers\", 51: \"Chick Peas\", 52: \"Lentils\", 53: \"Peas\", 54: \"Tomatoes\", 55: \"Caneberries\", 56: \"Hops\", 57: \"Herbs\", 58: \"Clover/Wildflowers\", 59: \"Sod/Grass Seed\", 60: \"Switchgrass\", 61: \"Fallow/Idle Cropland\", 63: \"Forest\", 64: \"Shrubland\", 65: \"Barren\", 66: \"Cherries\", 67: \"Peaches\", 68: \"Apples\", 69: \"Grapes\", 70: \"Christmas Trees\", 71: \"Other Tree Crops\", 72: \"Citrus\", 74: \"Pecans\", 75: \"Almonds\", 76: \"Walnuts\", 77: \"Pears\", 81: \"Clouds/No Data\", 82: \"Developed\", 83: \"Water\", 87: \"Wetlands\", 88: \"Nonag/Undefined\", 92: \"Aquaculture\", 111: \"Open Water\", 112: \"Perennial Ice/Snow\", 121: \"Developed/Open Space\", 122: \"Developed/Low Intensity\", 123: \"Developed/Med Intensity\", 124: \"Developed/High Intensity\", 131: \"Barren\", 141: \"Deciduous Forest\", 142: \"Evergreen Forest\", 143: \"Mixed Forest\", 152: \"Shrubland\", 176: \"Grassland/Pasture\", 190: \"Woody Wetlands\", 195: \"Herbaceous Wetlands\", 204: \"Pistachios\", 205: \"Triticale\", 206: \"Carrots\", 207: \"Asparagus\", 208: \"Garlic\", 209: \"Cantaloupes\", 210: \"Prunes\", 211: \"Olives\", 212: \"Oranges\", 213: \"Honeydew Melons\", 214: \"Broccoli\", 216: \"Peppers\", 217: \"Pomegranates\", 218: \"Nectarines\", 219: \"Greens\", 220: \"Plums\", 221: \"Strawberries\", 222: \"Squash\", 223: \"Apricots\", 224: \"Vetch\", 225: \"Dbl Crop WinWht/Corn\", 226: \"Dbl Crop Oats/Corn\", 227: \"Lettuce\", 229: \"Pumpkins\", 230: \"Dbl Crop Lettuce/Durum Wht\", 231: \"Dbl Crop Lettuce/Cantaloupe\", 232: \"Dbl Crop Lettuce/Cotton\", 233: \"Dbl Crop Lettuce/Barley\", 234: \"Dbl Crop Durum Wht/Sorghum\", 235: \"Dbl Crop Barley/Sorghum\", 236: \"Dbl Crop WinWht/Sorghum\", 237: \"Dbl Crop Barley/Corn\", 238: \"Dbl Crop WinWht/Cotton\", 239: \"Dbl Crop Soybeans/Cotton\", 240: \"Dbl Crop Soybeans/Oats\", 241: \"Dbl Crop Corn/Soybeans\", 242: \"Blueberries\", 243: \"Cabbage\", 244: \"Cauliflower\", 245: \"Celery\", 246: \"Radishes\", 247: \"Turnips\", 248: \"Eggplants\", 249: \"Gourds\", 250: \"Cranberries\", 254: \"Dbl Crop Barley/Soybeans\"}"
   ]
  },
  {
   "cell_type": "code",
   "execution_count": 3,
   "metadata": {},
   "outputs": [],
   "source": [
    "#!sudo apt-get update\n",
    "#!sudo apt-get install python-gdal -y"
   ]
  },
  {
   "cell_type": "code",
   "execution_count": 4,
   "metadata": {},
   "outputs": [],
   "source": [
    "#Changing Path\n",
    "tile2vec_dir = '/home/agupta21/gcloud/231n_gitproject'\n",
    "sys.path.append('../')\n",
    "sys.path.append(tile2vec_dir)"
   ]
  },
  {
   "cell_type": "code",
   "execution_count": 5,
   "metadata": {},
   "outputs": [],
   "source": [
    "from src.datasets import TileTripletsDataset, GetBands, RandomFlipAndRotate, ClipAndScale, ToFloatTensor, triplet_dataloader\n",
    "from src.tilenet import make_tilenet"
   ]
  },
  {
   "cell_type": "code",
   "execution_count": 6,
   "metadata": {},
   "outputs": [],
   "source": [
    "from src.training import prep_triplets, train_triplet_epoch"
   ]
  },
  {
   "cell_type": "code",
   "execution_count": 7,
   "metadata": {},
   "outputs": [
    {
     "name": "stdout",
     "output_type": "stream",
     "text": [
      "False\n"
     ]
    }
   ],
   "source": [
    "#CHECK IF GPU IS ACTIVE AND ENABLED\n",
    "\n",
    "os.environ['CUDA_VISIBLE_DEVICES'] = '0'\n",
    "cuda = torch.cuda.is_available()\n",
    "print(cuda)"
   ]
  },
  {
   "cell_type": "code",
   "execution_count": 9,
   "metadata": {},
   "outputs": [
    {
     "name": "stdout",
     "output_type": "stream",
     "text": [
      "(50, 50, 5)\n",
      "Winter Wheat\n",
      "Winter Wheat\n",
      "Grassland/Pasture\n"
     ]
    }
   ],
   "source": [
    "#Testing a anchor/neighbor object (Model for reading in)\n",
    "\n",
    "curNum = 1000\n",
    "part1 = \"../data/triplets/\" + str(curNum)\n",
    "anchor = np.load(part1 + \"anchor.npy\")\n",
    "neighbor = np.load(part1 + \"neighbor.npy\")\n",
    "distant = np.load(part1 + \"distant.npy\")\n",
    "\n",
    "print(anchor.shape)\n",
    "\n",
    "CDL_int1 = anchor[2][0][4] #print 3rd dimension, and last column of 0th row (same label for every example)\n",
    "CDL_int2 = neighbor[2][0][4] \n",
    "CDL_int3 = distant[2][0][4]\n",
    "print(CDL_dict[CDL_int1])\n",
    "print(CDL_dict[CDL_int2])\n",
    "print(CDL_dict[CDL_int3])\n"
   ]
  },
  {
   "cell_type": "code",
   "execution_count": 17,
   "metadata": {},
   "outputs": [
    {
     "name": "stdout",
     "output_type": "stream",
     "text": [
      "24 Label of Tile\n",
      "(50, 50, 4) New shape\n"
     ]
    }
   ],
   "source": [
    "#Extract the label (5th dimension) and convert the array into 50 by 50 by 4.\n",
    "anchor_label = anchor[2][0][4]\n",
    "anchor_reshaped = anchor[:,:,0:4]\n",
    "print(anchor_label, \"Label of Tile\")\n",
    "print(anchor_reshaped.shape, \"New shape\")\n",
    "#print(anchor[:,:,0:4])\n",
    "#print(anchor.shape,anchor)\n",
    "\n",
    "#visualize a tile"
   ]
  },
  {
   "cell_type": "code",
   "execution_count": 32,
   "metadata": {},
   "outputs": [
    {
     "name": "stdout",
     "output_type": "stream",
     "text": [
      "0\n",
      "1000\n",
      "2000\n",
      "3000\n",
      "4000\n",
      "5000\n",
      "6000\n",
      "7000\n",
      "8000\n",
      "9000\n",
      "483.39954566955566\n",
      "Grapes 8619\n",
      "Almonds 5021\n",
      "Developed/Med Intensity 1704\n",
      "Grassland/Pasture 4226\n",
      "Dbl Crop WinWht/Corn 257\n",
      "Oranges 337\n",
      "Fallow/Idle Cropland 1939\n",
      "Dbl Crop WinWht/Sorghum 38\n",
      "Developed/Low Intensity 1172\n",
      "Triticale 271\n",
      "Developed/Open Space 1573\n",
      "Alfalfa 1155\n",
      "Woody Wetlands 41\n",
      "Safflower 33\n",
      "Tomatoes 445\n",
      "Open Water 234\n",
      "Winter Wheat 396\n",
      "Developed/High Intensity 480\n",
      "Cotton 271\n",
      "Walnuts 360\n",
      "Oats 57\n",
      "Barley 52\n",
      "Pistachios 708\n",
      "Barren 62\n",
      "Onions 73\n",
      "Pomegranates 31\n",
      "Shrubland 35\n",
      "Other Tree Crops 11\n",
      "Garlic 57\n",
      "Corn 173\n",
      "Rye 2\n",
      "Citrus 12\n",
      "Plums 20\n",
      "Dry Beans 2\n",
      "Olives 13\n",
      "Durum Wheat 4\n",
      "Carrots 26\n",
      "Herbaceous Wetlands 2\n",
      "Lettuce 5\n",
      "Other Hay/Non Alfalfa 10\n",
      "Cantaloupes 1\n",
      "Sorghum 26\n",
      "Dbl Crop Oats/Corn 8\n",
      "Cherries 10\n",
      "Pears 1\n",
      "Peaches 10\n",
      "Evergreen Forest 4\n",
      "Deciduous Forest 4\n",
      "Nectarines 2\n",
      "Blueberries 3\n",
      "Spring Wheat 1\n",
      "Other Crops 1\n",
      "Honeydew Melons 1\n",
      "Watermelons 1\n",
      "30000\n"
     ]
    }
   ],
   "source": [
    "#Set up pipeline to link triplet labels to the various tiles \n",
    "\n",
    "labelToTiles = {}\n",
    "import time\n",
    "start = time.time()\n",
    "\n",
    "for curNum in range(10000): # of triplets\n",
    "    if curNum % 1000 == 0:\n",
    "        print(curNum)\n",
    "    #print(curNum)\n",
    "    part1 = \"../data/triplets/\" + str(curNum)\n",
    "    anchor = np.load(part1 + \"anchor.npy\")\n",
    "    neighbor = np.load(part1 + \"neighbor.npy\")\n",
    "    distant = np.load(part1 + \"distant.npy\")\n",
    "    a_key = CDL_dict[anchor[2][0][4]]\n",
    "    n_key = CDL_dict[neighbor[2][0][4]]\n",
    "    d_key = CDL_dict[distant[2][0][4]]\n",
    "    #print 3rd dimension, and last column of 0th row (same label for every example)\n",
    "    labelToTiles.setdefault(a_key,[]).append(anchor)\n",
    "    labelToTiles.setdefault(n_key,[]).append(neighbor)\n",
    "    labelToTiles.setdefault(d_key,[]).append(distant)\n",
    "    \n",
    "end = time.time()\n",
    "print(end - start)\n",
    "ctr = 0\n",
    "for key, value in labelToTiles.items():\n",
    "    ctr += len(value)\n",
    "    print(key,len(value))\n",
    "print(ctr)"
   ]
  },
  {
   "cell_type": "code",
   "execution_count": null,
   "metadata": {},
   "outputs": [],
   "source": [
    "#all the values are unique (ie all grape tiles = different in the list)\n",
    "\n",
    "# for i in range(5000):\n",
    "#     for j in range(5000):\n",
    "#         if i != j:\n",
    "#             if np.array_equal(labelToTiles[\"Grapes\"][i], labelToTiles[\"Grapes\"][j]):\n",
    "#                 print(i,j, \"are equal\")\n"
   ]
  },
  {
   "cell_type": "code",
   "execution_count": null,
   "metadata": {},
   "outputs": [],
   "source": []
  }
 ],
 "metadata": {
  "kernelspec": {
   "display_name": "Python 3",
   "language": "python",
   "name": "python3"
  },
  "language_info": {
   "codemirror_mode": {
    "name": "ipython",
    "version": 3
   },
   "file_extension": ".py",
   "mimetype": "text/x-python",
   "name": "python",
   "nbconvert_exporter": "python",
   "pygments_lexer": "ipython3",
   "version": "3.7.1"
  }
 },
 "nbformat": 4,
 "nbformat_minor": 2
}
