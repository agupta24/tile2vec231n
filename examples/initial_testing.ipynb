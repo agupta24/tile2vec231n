{
 "cells": [
  {
   "cell_type": "markdown",
   "metadata": {},
   "source": [
    "# Step 0: Initial Imports"
   ]
  },
  {
   "cell_type": "code",
   "execution_count": 1,
   "metadata": {},
   "outputs": [],
   "source": [
    "import sys\n",
    "import os\n",
    "import torch\n",
    "from torch import optim\n",
    "from time import time\n",
    "import gdal\n",
    "import numpy as np"
   ]
  },
  {
   "cell_type": "code",
   "execution_count": 2,
   "metadata": {},
   "outputs": [],
   "source": [
    "#Dict for Mapping between CDL Int Label and String Correspondence:\n",
    "CDL_dict = {0: \"Background\", 1: \"Corn\", 2: \"Cotton\", 3: \"Rice\", 4: \"Sorghum\", 5: \"Soybeans\", 6: \"Sunflower\", 10: \"Peanuts\", 11: \"Tobacco\", 12: \"Sweet Corn\", 13: \"Pop or Orn Corn\", 14: \"Mint\", 21: \"Barley\", 22: \"Durum Wheat\", 23: \"Spring Wheat\", 24: \"Winter Wheat\", 25: \"Other Small Grains\", 26: \"Dbl Crop WinWht/Soybeans\", 27: \"Rye\", 28: \"Oats\", 29: \"Millet\", 30: \"Speltz\", 31: \"Canola\", 32: \"Flaxseed\", 33: \"Safflower\", 34: \"Rape Seed\", 35: \"Mustard\", 36: \"Alfalfa\", 37: \"Other Hay/Non Alfalfa\", 38: \"Camelina\", 39: \"Buckwheat\", 41: \"Sugarbeets\", 42: \"Dry Beans\", 43: \"Potatoes\", 44: \"Other Crops\", 45: \"Sugarcane\", 46: \"Sweet Potatoes\", 47: \"Misc Vegs & Fruits\", 48: \"Watermelons\", 49: \"Onions\", 50: \"Cucumbers\", 51: \"Chick Peas\", 52: \"Lentils\", 53: \"Peas\", 54: \"Tomatoes\", 55: \"Caneberries\", 56: \"Hops\", 57: \"Herbs\", 58: \"Clover/Wildflowers\", 59: \"Sod/Grass Seed\", 60: \"Switchgrass\", 61: \"Fallow/Idle Cropland\", 63: \"Forest\", 64: \"Shrubland\", 65: \"Barren\", 66: \"Cherries\", 67: \"Peaches\", 68: \"Apples\", 69: \"Grapes\", 70: \"Christmas Trees\", 71: \"Other Tree Crops\", 72: \"Citrus\", 74: \"Pecans\", 75: \"Almonds\", 76: \"Walnuts\", 77: \"Pears\", 81: \"Clouds/No Data\", 82: \"Developed\", 83: \"Water\", 87: \"Wetlands\", 88: \"Nonag/Undefined\", 92: \"Aquaculture\", 111: \"Open Water\", 112: \"Perennial Ice/Snow\", 121: \"Developed/Open Space\", 122: \"Developed/Low Intensity\", 123: \"Developed/Med Intensity\", 124: \"Developed/High Intensity\", 131: \"Barren\", 141: \"Deciduous Forest\", 142: \"Evergreen Forest\", 143: \"Mixed Forest\", 152: \"Shrubland\", 176: \"Grassland/Pasture\", 190: \"Woody Wetlands\", 195: \"Herbaceous Wetlands\", 204: \"Pistachios\", 205: \"Triticale\", 206: \"Carrots\", 207: \"Asparagus\", 208: \"Garlic\", 209: \"Cantaloupes\", 210: \"Prunes\", 211: \"Olives\", 212: \"Oranges\", 213: \"Honeydew Melons\", 214: \"Broccoli\", 216: \"Peppers\", 217: \"Pomegranates\", 218: \"Nectarines\", 219: \"Greens\", 220: \"Plums\", 221: \"Strawberries\", 222: \"Squash\", 223: \"Apricots\", 224: \"Vetch\", 225: \"Dbl Crop WinWht/Corn\", 226: \"Dbl Crop Oats/Corn\", 227: \"Lettuce\", 229: \"Pumpkins\", 230: \"Dbl Crop Lettuce/Durum Wht\", 231: \"Dbl Crop Lettuce/Cantaloupe\", 232: \"Dbl Crop Lettuce/Cotton\", 233: \"Dbl Crop Lettuce/Barley\", 234: \"Dbl Crop Durum Wht/Sorghum\", 235: \"Dbl Crop Barley/Sorghum\", 236: \"Dbl Crop WinWht/Sorghum\", 237: \"Dbl Crop Barley/Corn\", 238: \"Dbl Crop WinWht/Cotton\", 239: \"Dbl Crop Soybeans/Cotton\", 240: \"Dbl Crop Soybeans/Oats\", 241: \"Dbl Crop Corn/Soybeans\", 242: \"Blueberries\", 243: \"Cabbage\", 244: \"Cauliflower\", 245: \"Celery\", 246: \"Radishes\", 247: \"Turnips\", 248: \"Eggplants\", 249: \"Gourds\", 250: \"Cranberries\", 254: \"Dbl Crop Barley/Soybeans\"}"
   ]
  },
  {
   "cell_type": "code",
   "execution_count": 3,
   "metadata": {},
   "outputs": [],
   "source": [
    "#!sudo apt-get update\n",
    "#!sudo apt-get install python-gdal -y"
   ]
  },
  {
   "cell_type": "code",
   "execution_count": 4,
   "metadata": {},
   "outputs": [],
   "source": [
    "#Changing Path\n",
    "tile2vec_dir = '/home/agupta21/gcloud/231n_gitproject'\n",
    "sys.path.append('../')\n",
    "sys.path.append(tile2vec_dir)"
   ]
  },
  {
   "cell_type": "code",
   "execution_count": 5,
   "metadata": {},
   "outputs": [],
   "source": [
    "from src.datasets import TileTripletsDataset, GetBands, RandomFlipAndRotate, ClipAndScale, ToFloatTensor, triplet_dataloader\n",
    "from src.tilenet import make_tilenet"
   ]
  },
  {
   "cell_type": "code",
   "execution_count": 6,
   "metadata": {},
   "outputs": [],
   "source": [
    "from src.training import prep_triplets, train_triplet_epoch"
   ]
  },
  {
   "cell_type": "code",
   "execution_count": 7,
   "metadata": {},
   "outputs": [
    {
     "name": "stdout",
     "output_type": "stream",
     "text": [
      "False\n"
     ]
    }
   ],
   "source": [
    "#CHECK IF GPU IS ACTIVE AND ENABLED\n",
    "\n",
    "os.environ['CUDA_VISIBLE_DEVICES'] = '0'\n",
    "cuda = torch.cuda.is_available()\n",
    "print(cuda)"
   ]
  },
  {
   "cell_type": "code",
   "execution_count": 96,
   "metadata": {},
   "outputs": [
    {
     "name": "stdout",
     "output_type": "stream",
     "text": [
      "(50, 50, 5)\n",
      "Grassland/Pasture\n",
      "Grapes\n",
      "Open Water\n",
      "176\n"
     ]
    }
   ],
   "source": [
    "#Testing a anchor/neighbor object (Model for reading in)\n",
    "\n",
    "curNum = 25\n",
    "part1 = \"../data/triplets/\" + str(curNum)\n",
    "anchor = np.load(part1 + \"anchor.npy\")\n",
    "neighbor = np.load(part1 + \"neighbor.npy\")\n",
    "distant = np.load(part1 + \"distant.npy\")\n",
    "\n",
    "print(anchor.shape)\n",
    "\n",
    "CDL_int1 = anchor[49][49][4] #print 3rd dimension, and last column of 0th row (same label for every example)\n",
    "CDL_int2 = neighbor[49][49][4] \n",
    "CDL_int3 = distant[49][49][4]\n",
    "\n",
    "print(CDL_dict[CDL_int1])\n",
    "print(CDL_dict[CDL_int2])\n",
    "print(CDL_dict[CDL_int3])\n",
    "counts_anchor = np.bincount(anchor[:,:,4].reshape(2500,))\n",
    "CDL_int1 = np.argmax(counts_anchor)\n",
    "print(np.argmax(counts_anchor))"
   ]
  },
  {
   "cell_type": "code",
   "execution_count": 97,
   "metadata": {},
   "outputs": [
    {
     "name": "stdout",
     "output_type": "stream",
     "text": [
      "69 Label of Tile\n",
      "(50, 50, 4) New shape\n"
     ]
    }
   ],
   "source": [
    "#Extract the label (5th dimension) and convert the array into 50 by 50 by 4.\n",
    "anchor_label = anchor[2][0][4]\n",
    "anchor_reshaped = anchor[:,:,0:4]\n",
    "print(anchor_label, \"Label of Tile\")\n",
    "print(anchor_reshaped.shape, \"New shape\")\n",
    "#print(anchor[:,:,0:4])\n",
    "#print(anchor.shape,anchor)\n",
    "\n",
    "#visualize a tile"
   ]
  },
  {
   "cell_type": "code",
   "execution_count": 11,
   "metadata": {},
   "outputs": [
    {
     "name": "stdout",
     "output_type": "stream",
     "text": [
      "70658\n",
      "37905\n",
      "80085\n",
      "3936\n",
      "81510\n"
     ]
    }
   ],
   "source": [
    "import random\n",
    "random.seed(30)\n",
    "for i in range(5):\n",
    "    print(random.randrange(0,100000))"
   ]
  },
  {
   "cell_type": "code",
   "execution_count": 98,
   "metadata": {
    "scrolled": true
   },
   "outputs": [
    {
     "name": "stdout",
     "output_type": "stream",
     "text": [
      "0\n",
      "1000\n",
      "2000\n",
      "3000\n",
      "4000\n",
      "5000\n",
      "6000\n",
      "7000\n",
      "8000\n",
      "9000\n",
      "9.731363534927368\n",
      "Grapes 8687\n",
      "Grassland/Pasture 4222\n",
      "Almonds 4933\n",
      "Open Water 247\n",
      "Corn 174\n",
      "Alfalfa 1201\n",
      "Developed/Open Space 1590\n",
      "Pistachios 679\n",
      "Dbl Crop WinWht/Corn 263\n",
      "Winter Wheat 346\n",
      "Barley 69\n",
      "Fallow/Idle Cropland 1932\n",
      "Triticale 222\n",
      "Cotton 300\n",
      "Developed/Med Intensity 1667\n",
      "Tomatoes 474\n",
      "Developed/High Intensity 431\n",
      "Walnuts 391\n",
      "Developed/Low Intensity 1129\n",
      "Other Hay/Non Alfalfa 18\n",
      "Oranges 361\n",
      "Barren 74\n",
      "Garlic 69\n",
      "Evergreen Forest 10\n",
      "Dbl Crop WinWht/Sorghum 50\n",
      "Other Tree Crops 7\n",
      "Oats 71\n",
      "Carrots 28\n",
      "Dbl Crop Oats/Corn 15\n",
      "Nectarines 1\n",
      "Shrubland 35\n",
      "Citrus 16\n",
      "Onions 98\n",
      "Pomegranates 35\n",
      "Peaches 10\n",
      "Cherries 10\n",
      "Safflower 22\n",
      "Sorghum 21\n",
      "Durum Wheat 8\n",
      "Lettuce 4\n",
      "Olives 16\n",
      "Pears 1\n",
      "Woody Wetlands 34\n",
      "Plums 6\n",
      "Herbaceous Wetlands 4\n",
      "Cantaloupes 1\n",
      "Dry Beans 9\n",
      "Dbl Crop Barley/Corn 2\n",
      "Deciduous Forest 3\n",
      "Blueberries 2\n",
      "Honeydew Melons 1\n",
      "Sod/Grass Seed 1\n",
      "30000\n"
     ]
    }
   ],
   "source": [
    "#Set up pipeline to link triplet labels to the various tiles \n",
    "\n",
    "labelToTiles = {}\n",
    "import time\n",
    "start = time.time()\n",
    "\n",
    "import random\n",
    "random.seed(30)\n",
    "nums = set()\n",
    "for i in range(10000): # of triplets\n",
    "    if i % 1000 == 0:\n",
    "        print(i)\n",
    "    curNum = random.randrange(0,100000)\n",
    "    while curNum in nums:\n",
    "        curNum = random.randrange(0,100000)\n",
    "    nums.add(curNum)\n",
    "    #print(curNum)\n",
    "    part1 = \"../data/triplets/\" + str(curNum)\n",
    "    anchor = np.load(part1 + \"anchor.npy\")\n",
    "    neighbor = np.load(part1 + \"neighbor.npy\")\n",
    "    distant = np.load(part1 + \"distant.npy\")\n",
    "    counts_anchor = np.bincount(anchor[:,:,4].reshape(2500,))\n",
    "    anchor_label = np.argmax(counts_anchor)\n",
    "    counts_nei = np.bincount(neighbor[:,:,4].reshape(2500,))\n",
    "    neighbor_label = np.argmax(counts_nei)\n",
    "    counts_distant = np.bincount(distant[:,:,4].reshape(2500,))\n",
    "    distant_label = np.argmax(counts_distant)\n",
    "    \n",
    "    a_key = CDL_dict[anchor_label]\n",
    "    n_key = CDL_dict[neighbor_label]\n",
    "    d_key = CDL_dict[distant_label]\n",
    "    #print 3rd dimension, and last column of 0th row (same label for every example)\n",
    "    labelToTiles.setdefault(a_key,[]).append(anchor)\n",
    "    labelToTiles.setdefault(n_key,[]).append(neighbor)\n",
    "    labelToTiles.setdefault(d_key,[]).append(distant)\n",
    "    \n",
    "end = time.time()\n",
    "print(end - start)\n",
    "ctr = 0\n",
    "for key, value in labelToTiles.items():\n",
    "    ctr += len(value)\n",
    "    print(key,len(value))\n",
    "print(ctr)"
   ]
  },
  {
   "cell_type": "code",
   "execution_count": 67,
   "metadata": {},
   "outputs": [],
   "source": [
    "#all the values are unique (ie all grape tiles = different in the list)\n",
    "part1 = \"../data/triplets/\" + str(99999)\n",
    "anchor = np.load(part1 + \"anchor.npy\")\n",
    "# for i in range(5000):\n",
    "#     for j in range(5000):\n",
    "#         if i != j:\n",
    "#             if np.array_equal(labelToTiles[\"Grapes\"][i], labelToTiles[\"Grapes\"][j]):\n",
    "#                 print(i,j, \"are equal\")\n"
   ]
  },
  {
   "cell_type": "code",
   "execution_count": 99,
   "metadata": {},
   "outputs": [
    {
     "name": "stdout",
     "output_type": "stream",
     "text": [
      "108700\n"
     ]
    }
   ],
   "source": [
    "#Need to create new triplets based off of our dict. \n",
    "file_index = 100000\n",
    "random.seed(50)\n",
    "anch_n = []#anchor/neighbor dict\n",
    "d_list = []\n",
    "\n",
    "import copy \n",
    "labelToTiles_copy = copy.deepcopy(labelToTiles)\n",
    "\n",
    "for curKey in labelToTiles_copy.keys():\n",
    "    if len(labelToTiles_copy[curKey]) > 1:\n",
    "        anch_n.append(curKey)\n",
    "#         print(len(labelToTiles_copy[curKey]))\n",
    "    if len(labelToTiles_copy[curKey]) >=1:\n",
    "        d_list.append(curKey)\n",
    "#         print(len(labelToTiles_copy[curKey]))\n",
    "#     if len(labelToTiles_copy[curKey]) ==0:\n",
    "#         print(curKey)\n",
    "\n",
    "ctr = 0\n",
    "while len(anch_n) > 1 and len(d_list) >1: #this is the bottleneck\n",
    "    anLabIndex = random.randint(0,len(anch_n)-1) #label index\n",
    "    distLabIndex = random.randint(0,len(d_list)-1)\n",
    "    anLabel = anch_n[anLabIndex]\n",
    "    distLabel = d_list[distLabIndex]\n",
    "    while distLabel == anLabel:\n",
    "        #print(len(d_list), \"in while loop\", distLabel)\n",
    "        distLabIndex = random.randint(0,len(d_list)-1)\n",
    "        distLabel = d_list[distLabIndex]\n",
    "    #now, we have the labels for the anchor/neighbor and for the distance\n",
    "#     print(anLabel,len(labelToTiles_copy[anLabel]))\n",
    "    #from master dict, sample 2 random from anchor and 1 random from distant\n",
    "    #print(\"anLabel, About to pop from\", anLabel, \"with size: \", len(labelToTiles_copy[anLabel]))\n",
    "    anchor = labelToTiles_copy[anLabel].pop()\n",
    "   # print(\"anLabel, About to pop from\", anLabel, \"with size: \", len(labelToTiles_copy[anLabel]))\n",
    "    neighbor = labelToTiles_copy[anLabel].pop()\n",
    "    #print(\"ditLabel, About to pop from\", distLabel, \"with size: \", len(labelToTiles_copy[distLabel]))\n",
    "    distant = labelToTiles_copy[distLabel].pop()\n",
    "    \n",
    "    np.save(\"../data/triplets/{}anchor.npy\".format(file_index),anchor)\n",
    "    np.save(\"../data/triplets/{}neighbor.npy\".format(file_index),neighbor)\n",
    "    np.save(\"../data/triplets/{}distant.npy\".format(file_index),distant)\n",
    "    \n",
    "    \n",
    "    if len(labelToTiles_copy[anLabel]) < 2:\n",
    "        #print(anLabel, \"anch_n\", len(labelToTiles_copy[anLabel]))\n",
    "        anch_n.remove(anLabel)\n",
    "    if len(labelToTiles_copy[anLabel]) == 0:\n",
    "        #print(anLabel, \"d_list\", len(labelToTiles_copy[anLabel]))\n",
    "        d_list.remove(anLabel)\n",
    "    if len(labelToTiles_copy[distLabel]) == 0:\n",
    "        #print(distLabel, \"d_list\", len(labelToTiles_copy[distLabel]))\n",
    "        d_list.remove(distLabel)\n",
    "    if distLabel in anch_n and len(labelToTiles_copy[distLabel])<2:\n",
    "            anch_n.remove(distLabel)\n",
    "    \n",
    "    file_index += 1\n",
    "print(file_index)"
   ]
  },
  {
   "cell_type": "code",
   "execution_count": 102,
   "metadata": {},
   "outputs": [
    {
     "name": "stdout",
     "output_type": "stream",
     "text": [
      "[[[102 114  96 187  69]\n",
      "  [ 99 109  98 178  69]\n",
      "  [ 92 105  95 177  69]\n",
      "  ...\n",
      "  [ 91 100  94 176  69]\n",
      "  [ 82  89  86 163  69]\n",
      "  [ 92  97  94 166  69]]\n",
      "\n",
      " [[100 114  95 191  69]\n",
      "  [ 94 110  92 185  69]\n",
      "  [ 85 102  88 179  69]\n",
      "  ...\n",
      "  [ 80  93  85 178  69]\n",
      "  [ 71  81  77 166  69]\n",
      "  [ 73  80  84 170  69]]\n",
      "\n",
      " [[ 97 116  90 193  69]\n",
      "  [ 91 112  86 186  69]\n",
      "  [ 85 102  80 177  69]\n",
      "  ...\n",
      "  [ 76  90  79 180  69]\n",
      "  [ 66  76  74 168  69]\n",
      "  [ 76  84  83 176  69]]\n",
      "\n",
      " ...\n",
      "\n",
      " [[ 89 101  89 188 212]\n",
      "  [ 88 103  89 184 212]\n",
      "  [ 86 101  85 182 212]\n",
      "  ...\n",
      "  [ 87 104  86 183  69]\n",
      "  [ 79  94  83 177  69]\n",
      "  [ 79  94  83 177  69]]\n",
      "\n",
      " [[ 86 100  86 187 212]\n",
      "  [ 86  96  87 180 212]\n",
      "  [ 79  93  83 177 212]\n",
      "  ...\n",
      "  [ 89 108  85 184  69]\n",
      "  [ 77  92  81 177  69]\n",
      "  [ 77  92  81 177  69]]\n",
      "\n",
      " [[ 80  96  85 179 212]\n",
      "  [ 74  86  80 170 212]\n",
      "  [ 73  85  78 168 212]\n",
      "  ...\n",
      "  [ 89 111  85 181  69]\n",
      "  [ 77  92  80 174  69]\n",
      "  [ 77  92  80 174  69]]]\n"
     ]
    }
   ],
   "source": [
    "a = np.load(\"../data/triplets/108699anchor.npy\")\n",
    "print(a[:,:,:])\n"
   ]
  },
  {
   "cell_type": "code",
   "execution_count": null,
   "metadata": {},
   "outputs": [],
   "source": []
  },
  {
   "cell_type": "code",
   "execution_count": null,
   "metadata": {},
   "outputs": [],
   "source": []
  }
 ],
 "metadata": {
  "kernelspec": {
   "display_name": "Python 3",
   "language": "python",
   "name": "python3"
  },
  "language_info": {
   "codemirror_mode": {
    "name": "ipython",
    "version": 3
   },
   "file_extension": ".py",
   "mimetype": "text/x-python",
   "name": "python",
   "nbconvert_exporter": "python",
   "pygments_lexer": "ipython3",
   "version": "3.7.1"
  }
 },
 "nbformat": 4,
 "nbformat_minor": 2
}
