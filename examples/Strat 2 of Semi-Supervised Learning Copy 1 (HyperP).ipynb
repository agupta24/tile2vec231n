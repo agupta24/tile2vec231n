{
 "cells": [
  {
   "cell_type": "markdown",
   "metadata": {},
   "source": [
    "# Imports + Path Specification"
   ]
  },
  {
   "cell_type": "code",
   "execution_count": 1,
   "metadata": {},
   "outputs": [],
   "source": [
    "import sys\n",
    "import os\n",
    "import torch\n",
    "from torch import optim\n",
    "from time import time\n",
    "import random"
   ]
  },
  {
   "cell_type": "code",
   "execution_count": 2,
   "metadata": {},
   "outputs": [],
   "source": [
    "tile2vec_dir = '/home/agupta21/gcloud/231n_gitproject' # Uncomment for anshul\n",
    "# tile2vec_dir = '/home/shailimonchik/project' # Uncomment for Shai\n",
    "sys.path.append('../')\n",
    "sys.path.append(tile2vec_dir)"
   ]
  },
  {
   "cell_type": "code",
   "execution_count": 3,
   "metadata": {},
   "outputs": [],
   "source": [
    "from src.datasets import TileTripletsDataset, GetBands, RandomFlipAndRotate, ClipAndScale, ToFloatTensor, triplet_dataloader\n",
    "from src.tilenet import make_tilenet"
   ]
  },
  {
   "cell_type": "code",
   "execution_count": 4,
   "metadata": {},
   "outputs": [],
   "source": [
    "from src.training import prep_triplets, train_triplet_epoch"
   ]
  },
  {
   "cell_type": "code",
   "execution_count": 5,
   "metadata": {},
   "outputs": [],
   "source": [
    "import numpy as np\n",
    "from torch.autograd import Variable\n",
    "import sys\n",
    "from src.resnet import ResNet18"
   ]
  },
  {
   "cell_type": "code",
   "execution_count": 6,
   "metadata": {},
   "outputs": [],
   "source": [
    "#Random Forest Classification\n",
    "\n",
    "from sklearn.preprocessing import LabelEncoder\n",
    "from sklearn.ensemble import RandomForestClassifier\n",
    "from sklearn.model_selection import train_test_split"
   ]
  },
  {
   "cell_type": "markdown",
   "metadata": {},
   "source": [
    "# Dataloader + TileNet Setup"
   ]
  },
  {
   "cell_type": "code",
   "execution_count": 7,
   "metadata": {},
   "outputs": [
    {
     "name": "stdout",
     "output_type": "stream",
     "text": [
      "True\n"
     ]
    }
   ],
   "source": [
    "# Environment stuff\n",
    "os.environ['CUDA_VISIBLE_DEVICES'] = '0'\n",
    "cuda = torch.cuda.is_available()\n",
    "print(cuda)"
   ]
  },
  {
   "cell_type": "code",
   "execution_count": 8,
   "metadata": {},
   "outputs": [],
   "source": [
    "# Defining Parameters\n",
    "img_type = 'naip'\n",
    "tile_dir = '/home/agupta21/gcloud/231n_gitproject/data/triplets/'\n",
    "bands = 4\n",
    "augment = False\n",
    "batch_size = 50\n",
    "shuffle = True\n",
    "num_workers = 6\n",
    "n_triplets = 100000"
   ]
  },
  {
   "cell_type": "code",
   "execution_count": 9,
   "metadata": {},
   "outputs": [
    {
     "name": "stdout",
     "output_type": "stream",
     "text": [
      "Dataloader set up complete.\n"
     ]
    }
   ],
   "source": [
    "dataloader = triplet_dataloader(img_type, tile_dir, bands=bands, augment=augment,\n",
    "                                batch_size=batch_size, shuffle=shuffle, num_workers=num_workers, \n",
    "                                n_triplets=n_triplets, pairs_only=False) #HYPERPARAMETER TURNED\n",
    "print('Dataloader set up complete.')"
   ]
  },
  {
   "cell_type": "code",
   "execution_count": 10,
   "metadata": {},
   "outputs": [
    {
     "name": "stdout",
     "output_type": "stream",
     "text": [
      "10000\n",
      "10000\n",
      "65539\n"
     ]
    }
   ],
   "source": [
    "#generate list\n",
    "random.seed(21)\n",
    "randList = []\n",
    "while len(randList)!= 10000:\n",
    "    randIndex = random.randint(0,99999)\n",
    "    if randIndex not in randList:\n",
    "        randList.append(randIndex)\n",
    "print(len(randList))\n",
    "\n",
    "randSet = set(randList)\n",
    "print(len(randSet))\n",
    "print(list(randSet)[0]) #65339"
   ]
  },
  {
   "cell_type": "code",
   "execution_count": 11,
   "metadata": {},
   "outputs": [],
   "source": [
    "# tripletsToLabels = {}\n",
    "# for idx in range(65538,100000):\n",
    "#     if idx in randSet:\n",
    "#         #do shit\n",
    "#         part1 = \"../data/triplets/\" + str(idx)\n",
    "#         anchor = np.load(part1 + \"anchor.npy\")\n",
    "#         neighbor = np.load(part1 + \"neighbor.npy\")\n",
    "#         distant = np.load(part1 + \"distant.npy\")\n",
    "#         counts_anchor = np.bincount(anchor[:,:,4].reshape(2500,))\n",
    "#         anchor_label = np.argmax(counts_anchor)\n",
    "#         counts_nei = np.bincount(neighbor[:,:,4].reshape(2500,))\n",
    "#         neighbor_label = np.argmax(counts_nei)\n",
    "#         counts_distant = np.bincount(distant[:,:,4].reshape(2500,))\n",
    "#         distant_label = np.argmax(counts_distant)\n",
    "#         tripletsToLabels[idx] = (anchor_label, neighbor_label, distant_label)\n",
    "#     if idx == 65539:\n",
    "#         print(anchor_label,neighbor_label,distant_label)\n",
    "        \n",
    "#         print('Key is {}, Labels are {}'.format(idx, tripletsToLabels[idx]))\n",
    "#     if idx % 10000 == 0:\n",
    "#         print('idx is {}'.format(idx))\n",
    "# print(len(tripletsToLabels))"
   ]
  },
  {
   "cell_type": "code",
   "execution_count": 12,
   "metadata": {},
   "outputs": [],
   "source": [
    "# #Get set of all values:\n",
    "# allVals = set()\n",
    "# for idx in range(100000):\n",
    "#     if idx % 1000 == 0:\n",
    "#         print(idx)\n",
    "#     part1 = \"../data/triplets/\" + str(idx)\n",
    "#     anchor = np.load(part1 + \"anchor.npy\")\n",
    "#     neighbor = np.load(part1 + \"neighbor.npy\")\n",
    "#     distant = np.load(part1 + \"distant.npy\")\n",
    "#     counts_anchor = np.bincount(anchor[:,:,4].reshape(2500,))\n",
    "#     anchor_label = np.argmax(counts_anchor)\n",
    "#     counts_nei = np.bincount(neighbor[:,:,4].reshape(2500,))\n",
    "#     neighbor_label = np.argmax(counts_nei)\n",
    "#     counts_distant = np.bincount(distant[:,:,4].reshape(2500,))\n",
    "#     distant_label = np.argmax(counts_distant)\n",
    "#     allVals.add(anchor_label)\n",
    "#     allVals.add(neighbor_label)\n",
    "#     allVals.add(distant_label)\n",
    "# print(len(allVals))\n",
    "# print(allVals)"
   ]
  },
  {
   "cell_type": "code",
   "execution_count": 13,
   "metadata": {},
   "outputs": [
    {
     "name": "stdout",
     "output_type": "stream",
     "text": [
      "{1, 2, 3, 131, 4, 12, 141, 142, 21, 22, 23, 24, 152, 27, 28, 33, 36, 37, 41, 42, 43, 44, 176, 49, 48, 53, 54, 59, 61, 190, 66, 67, 195, 69, 71, 72, 74, 75, 76, 205, 204, 206, 208, 77, 209, 211, 212, 213, 216, 217, 218, 220, 225, 226, 227, 236, 237, 111, 242, 121, 122, 123, 124}\n",
      "[ 0  1  2 38  3  4 39 40  5  6  7  8 41  9 10 11 12 13 14 15 16 17 42 19\n",
      " 18 20 21 22 23 43 24 25 44 26 27 28 29 30 31 46 45 47 48 32 49 50 51 52\n",
      " 53 54 55 56 57 58 59 60 61 33 62 34 35 36 37]\n",
      "{0, 1, 2, 3, 4, 5, 6, 7, 8, 9, 10, 11, 12, 13, 14, 15, 16, 17, 18, 19, 20, 21, 22, 23, 24, 25, 26, 27, 28, 29, 30, 31, 32, 33, 34, 35, 36, 37, 38, 39, 40, 41, 42, 43, 44, 45, 46, 47, 48, 49, 50, 51, 52, 53, 54, 55, 56, 57, 58, 59, 60, 61, 62}\n"
     ]
    }
   ],
   "source": [
    "#Transform the dict: \n",
    "allVals = {1, 2, 131, 4, 3, 12, 141, 142, 21, 22, 23, 24, 152, 27, 28, 33, 36, 37, 41, 42, 43, 44, 176, 49, 48, 53, 54, 59, 61, 190, 66, 67, 195, 69, 71, 72, 74, 75, 76, 205, 204, 206, 208, 77, 209, 211, 212, 213, 216, 217, 218, 220, 225, 226, 227, 236, 237, 111, 242, 121, 122, 123, 124}\n",
    "print(set(allVals))\n",
    "le = LabelEncoder()\n",
    "transformedLabels = le.fit_transform(list(allVals))\n",
    "print(transformedLabels)\n",
    "print(set(transformedLabels))\n"
   ]
  },
  {
   "cell_type": "code",
   "execution_count": 14,
   "metadata": {},
   "outputs": [],
   "source": [
    "# tile_dir = '../data/tiles'\n",
    "# n_tiles = 1000\n",
    "# y = np.load(os.path.join(tile_dir, 'y.npy'))\n",
    "# print(y.shape)\n",
    "# print(set(y))\n"
   ]
  },
  {
   "cell_type": "code",
   "execution_count": 15,
   "metadata": {},
   "outputs": [],
   "source": [
    "# for i in set(y):\n",
    "#     val = int(i)\n",
    "#     if val not in allVals:\n",
    "#         print(\"Crushing\")"
   ]
  },
  {
   "cell_type": "code",
   "execution_count": 16,
   "metadata": {},
   "outputs": [],
   "source": [
    "# #DO NOT RUN THIS ANYMORE\n",
    "# f = open('tripletsToLabels2', 'w')\n",
    "# f.write(str(tripletsToLabels))\n",
    "# f.close()"
   ]
  },
  {
   "cell_type": "code",
   "execution_count": 17,
   "metadata": {},
   "outputs": [
    {
     "name": "stdout",
     "output_type": "stream",
     "text": [
      "10000\n",
      "(123, 69, 69)\n"
     ]
    }
   ],
   "source": [
    "tempDict = eval(open('tripletsToLabels', 'r').read())\n",
    "print(len(tempDict))\n",
    "\n",
    "print(tempDict[65539])"
   ]
  },
  {
   "cell_type": "code",
   "execution_count": 18,
   "metadata": {},
   "outputs": [
    {
     "name": "stdout",
     "output_type": "stream",
     "text": [
      "61\n"
     ]
    }
   ],
   "source": [
    "#DONT RUN THIS AGAIN!!!!! (actually you can )\n",
    "for key, value in tempDict.items():\n",
    "    value2 = le.transform(value)\n",
    "    tempDict[key] = value2\n",
    "maxVal = 0\n",
    "for key, value in tempDict.items():\n",
    "    maxP = max(value)\n",
    "    if maxP > maxVal:\n",
    "        maxVal = maxP\n",
    "print(maxVal)"
   ]
  },
  {
   "cell_type": "code",
   "execution_count": 19,
   "metadata": {},
   "outputs": [],
   "source": [
    "in_channels = bands\n",
    "z_dim = 512"
   ]
  },
  {
   "cell_type": "code",
   "execution_count": 20,
   "metadata": {},
   "outputs": [
    {
     "name": "stdout",
     "output_type": "stream",
     "text": [
      "TileNet set up complete.\n"
     ]
    }
   ],
   "source": [
    "TileNet = make_tilenet(in_channels=in_channels, z_dim=z_dim, strat2=True, dictionary_labels=tempDict, idx_include=randSet)\n",
    "TileNet.train()\n",
    "if cuda: TileNet.cuda()\n",
    "print('TileNet set up complete.')"
   ]
  },
  {
   "cell_type": "code",
   "execution_count": 21,
   "metadata": {},
   "outputs": [],
   "source": [
    "#Hyperparameter \n",
    "lr = 1e-3\n",
    "optimizer = optim.Adam(TileNet.parameters(), lr=lr, betas=(0.5, 0.999))"
   ]
  },
  {
   "cell_type": "markdown",
   "metadata": {},
   "source": [
    "# Training Model + Writing Each Epoch to File"
   ]
  },
  {
   "cell_type": "code",
   "execution_count": 25,
   "metadata": {},
   "outputs": [],
   "source": [
    "epochs = 10\n",
    "margin = 10\n",
    "l2 = 0.01\n",
    "print_every = 10000\n",
    "save_models = True"
   ]
  },
  {
   "cell_type": "code",
   "execution_count": 26,
   "metadata": {},
   "outputs": [],
   "source": [
    "model_dir = '/home/agupta21/gcloud/231n_gitproject/models/'\n",
    "if not os.path.exists(model_dir): os.makedirs(model_dir)"
   ]
  },
  {
   "cell_type": "code",
   "execution_count": null,
   "metadata": {},
   "outputs": [
    {
     "name": "stdout",
     "output_type": "stream",
     "text": [
      "Begin training.................\n",
      "Epoch 1: [10000/100000 (10%)], Avg loss: 9.4882\n",
      "Epoch 1: [20000/100000 (20%)], Avg loss: 10.5721\n",
      "Epoch 1: [30000/100000 (30%)], Avg loss: 11.4421\n",
      "Epoch 1: [40000/100000 (40%)], Avg loss: 9.4240\n",
      "Epoch 1: [50000/100000 (50%)], Avg loss: 8.5002\n",
      "Epoch 1: [60000/100000 (60%)], Avg loss: 9.1728\n",
      "Epoch 1: [70000/100000 (70%)], Avg loss: 9.1027\n",
      "Epoch 1: [80000/100000 (80%)], Avg loss: 10.2380\n",
      "Epoch 1: [90000/100000 (90%)], Avg loss: 10.2716\n",
      "Epoch 1: [100000/100000 (100%)], Avg loss: 8.6404\n",
      "Finished epoch 1: 2361.557s\n",
      "  Average loss: 9.6852\n",
      "  Average l_n: 3.5539\n",
      "  Average l_d: -13.5885\n",
      "  Average l_nd: -10.0346\n",
      "\n",
      "Epoch 2: [10000/100000 (10%)], Avg loss: 9.2372\n",
      "Epoch 2: [20000/100000 (20%)], Avg loss: 9.7730\n",
      "Epoch 2: [30000/100000 (30%)], Avg loss: 10.7317\n",
      "Epoch 2: [40000/100000 (40%)], Avg loss: 8.9207\n",
      "Epoch 2: [50000/100000 (50%)], Avg loss: 7.9594\n",
      "Epoch 2: [60000/100000 (60%)], Avg loss: 8.6866\n",
      "Epoch 2: [80000/100000 (80%)], Avg loss: 9.6605\n",
      "Epoch 2: [90000/100000 (90%)], Avg loss: 9.6515\n",
      "Epoch 2: [100000/100000 (100%)], Avg loss: 8.5424\n",
      "Finished epoch 2: 4722.188s\n",
      "  Average loss: 9.1855\n",
      "  Average l_n: 3.4491\n",
      "  Average l_d: -13.6185\n",
      "  Average l_nd: -10.1694\n",
      "\n",
      "Epoch 3: [10000/100000 (10%)], Avg loss: 8.7665\n",
      "Epoch 3: [20000/100000 (20%)], Avg loss: 9.5134\n",
      "Epoch 3: [30000/100000 (30%)], Avg loss: 10.6069\n",
      "Epoch 3: [40000/100000 (40%)], Avg loss: 8.6572\n",
      "Epoch 3: [50000/100000 (50%)], Avg loss: 7.8594\n",
      "Epoch 3: [60000/100000 (60%)], Avg loss: 8.8055\n",
      "Epoch 3: [70000/100000 (70%)], Avg loss: 8.9257\n",
      "Epoch 3: [80000/100000 (80%)], Avg loss: 9.7177\n",
      "Epoch 3: [90000/100000 (90%)], Avg loss: 9.8349\n",
      "Epoch 3: [100000/100000 (100%)], Avg loss: 8.5978\n",
      "Finished epoch 3: 7082.082s\n",
      "  Average loss: 9.1285\n",
      "  Average l_n: 3.3255\n",
      "  Average l_d: -13.5521\n",
      "  Average l_nd: -10.2266\n",
      "\n",
      "Epoch 4: [10000/100000 (10%)], Avg loss: 8.7181\n",
      "Epoch 4: [20000/100000 (20%)], Avg loss: 9.8210\n",
      "Epoch 4: [30000/100000 (30%)], Avg loss: 10.6174\n",
      "Epoch 4: [40000/100000 (40%)], Avg loss: 8.8256\n",
      "Epoch 4: [50000/100000 (50%)], Avg loss: 7.9656\n",
      "Epoch 4: [60000/100000 (60%)], Avg loss: 8.4611\n",
      "Epoch 4: [70000/100000 (70%)], Avg loss: 8.7709\n",
      "Epoch 4: [80000/100000 (80%)], Avg loss: 9.5021\n",
      "Epoch 4: [90000/100000 (90%)], Avg loss: 9.2112\n",
      "Epoch 4: [100000/100000 (100%)], Avg loss: 8.1456\n",
      "Finished epoch 4: 9437.767s\n",
      "  Average loss: 9.0039\n",
      "  Average l_n: 3.2275\n",
      "  Average l_d: -13.4909\n",
      "  Average l_nd: -10.2633\n",
      "\n",
      "Epoch 5: [10000/100000 (10%)], Avg loss: 8.4237\n",
      "Epoch 5: [20000/100000 (20%)], Avg loss: 9.3395\n",
      "Epoch 5: [30000/100000 (30%)], Avg loss: 9.9685\n",
      "Epoch 5: [40000/100000 (40%)], Avg loss: 8.2646\n",
      "Epoch 5: [50000/100000 (50%)], Avg loss: 7.6168\n",
      "Epoch 5: [70000/100000 (70%)], Avg loss: 8.7695\n",
      "Epoch 5: [80000/100000 (80%)], Avg loss: 9.1304\n",
      "Epoch 5: [90000/100000 (90%)], Avg loss: 9.0770\n",
      "Epoch 5: [100000/100000 (100%)], Avg loss: 8.0990\n",
      "Finished epoch 5: 13429.558s\n",
      "  Average loss: 8.7222\n",
      "  Average l_n: 3.1543\n",
      "  Average l_d: -13.4518\n",
      "  Average l_nd: -10.2975\n",
      "\n",
      "Epoch 6: [10000/100000 (10%)], Avg loss: 8.1625\n",
      "Epoch 6: [20000/100000 (20%)], Avg loss: 9.4605\n",
      "Epoch 6: [30000/100000 (30%)], Avg loss: 9.9595\n",
      "Epoch 6: [40000/100000 (40%)], Avg loss: 8.4343\n",
      "Epoch 6: [50000/100000 (50%)], Avg loss: 7.5581\n",
      "Epoch 6: [60000/100000 (60%)], Avg loss: 7.9601\n",
      "Epoch 6: [70000/100000 (70%)], Avg loss: 8.1805\n",
      "Epoch 6: [80000/100000 (80%)], Avg loss: 8.9172\n",
      "Epoch 6: [90000/100000 (90%)], Avg loss: 8.9498\n",
      "Epoch 6: [100000/100000 (100%)], Avg loss: 7.8062\n",
      "Finished epoch 6: 17651.058s\n",
      "  Average loss: 8.5389\n",
      "  Average l_n: 3.1066\n",
      "  Average l_d: -13.4309\n",
      "  Average l_nd: -10.3242\n",
      "\n",
      "Epoch 7: [10000/100000 (10%)], Avg loss: 8.1521\n",
      "Epoch 7: [20000/100000 (20%)], Avg loss: 9.2242\n",
      "Epoch 7: [30000/100000 (30%)], Avg loss: 10.2710\n",
      "Epoch 7: [40000/100000 (40%)], Avg loss: 8.0900\n",
      "Epoch 7: [50000/100000 (50%)], Avg loss: 7.5207\n",
      "Epoch 7: [60000/100000 (60%)], Avg loss: 8.2408\n",
      "Epoch 7: [70000/100000 (70%)], Avg loss: 8.3285\n",
      "Epoch 7: [80000/100000 (80%)], Avg loss: 8.8856\n",
      "Epoch 7: [90000/100000 (90%)], Avg loss: 8.8826\n",
      "Epoch 7: [100000/100000 (100%)], Avg loss: 7.5367\n",
      "Finished epoch 7: 21868.937s\n",
      "  Average loss: 8.5132\n",
      "  Average l_n: 3.0419\n",
      "  Average l_d: -13.3948\n",
      "  Average l_nd: -10.3529\n",
      "\n",
      "Epoch 8: [10000/100000 (10%)], Avg loss: 8.1103\n",
      "Epoch 8: [20000/100000 (20%)], Avg loss: 9.1031\n",
      "Epoch 8: [40000/100000 (40%)], Avg loss: 7.8318\n",
      "Epoch 8: [50000/100000 (50%)], Avg loss: 7.3263\n",
      "Epoch 8: [60000/100000 (60%)], Avg loss: 7.9400\n",
      "Epoch 8: [70000/100000 (70%)], Avg loss: 7.9088\n",
      "Epoch 8: [80000/100000 (80%)], Avg loss: 8.6499\n",
      "Epoch 8: [90000/100000 (90%)], Avg loss: 8.4235\n",
      "Epoch 8: [100000/100000 (100%)], Avg loss: 7.5787\n",
      "Finished epoch 8: 26067.947s\n",
      "  Average loss: 8.2656\n",
      "  Average l_n: 3.0023\n",
      "  Average l_d: -13.3828\n",
      "  Average l_nd: -10.3805\n",
      "\n",
      "Epoch 9: [10000/100000 (10%)], Avg loss: 7.7720\n",
      "Epoch 9: [20000/100000 (20%)], Avg loss: 8.8531\n",
      "Epoch 9: [30000/100000 (30%)], Avg loss: 9.3568\n",
      "Epoch 9: [40000/100000 (40%)], Avg loss: 7.8089\n",
      "Epoch 9: [50000/100000 (50%)], Avg loss: 7.1563\n",
      "Epoch 9: [60000/100000 (60%)], Avg loss: 7.7426\n"
     ]
    }
   ],
   "source": [
    "t0 = time()\n",
    "#with open(results_fn, 'w') as file:\n",
    "\n",
    "total_list = []\n",
    "small_list = []\n",
    "print('Begin training.................')\n",
    "for epoch in range(0, epochs):\n",
    "    (avg_loss, avg_small,avg_l_n, avg_l_d, avg_l_nd) = train_triplet_epoch(\n",
    "        TileNet, cuda, dataloader, optimizer, epoch+1, margin=margin, l2=l2,\n",
    "        print_every=print_every, t0=t0)\n",
    "    total_list.append((epoch+1,avg_loss))\n",
    "    small_list.append((epoch+1,avg_small))\n",
    "    append_name = \"strat2.1_ep\" + str(epoch+1) + \".ckpt\"\n",
    "    if save_models:\n",
    "        model_fn = os.path.join(model_dir,append_name)\n",
    "        torch.save(TileNet.state_dict(),model_fn)"
   ]
  },
  {
   "cell_type": "code",
   "execution_count": 29,
   "metadata": {},
   "outputs": [
    {
     "name": "stdout",
     "output_type": "stream",
     "text": [
      "[(1, 9.685210390329361), (2, 9.185549191832543), (3, 9.12851038134098), (4, 9.00385660457611), (5, 8.722187658905982), (6, 8.538859692811966), (7, 8.513230026483535), (8, 8.26561591911316), (9, 8.036771008729934)]\n",
      "[(1, 5.734011413691712), (2, 5.390026954658409), (3, 5.466318980083601), (4, 5.42163113568589), (5, 5.221251976791647), (6, 5.088228962837617), (7, 5.120239342305789), (8, 4.914984510307085), (9, 4.747061328997647)]\n"
     ]
    }
   ],
   "source": [
    "print(total_list)\n",
    "print(small_list)\n"
   ]
  },
  {
   "cell_type": "markdown",
   "metadata": {},
   "source": [
    "# Pre Process Y Values"
   ]
  },
  {
   "cell_type": "code",
   "execution_count": 30,
   "metadata": {},
   "outputs": [
    {
     "name": "stdout",
     "output_type": "stream",
     "text": [
      "(1000,)\n"
     ]
    }
   ],
   "source": [
    "#note to self: need to embed tiles first and then figure out loop for reading in the saved model and plotting\n",
    "#the classification accuracies per epoch\n",
    "tile_dir = '../data/tiles'\n",
    "n_tiles = 1000\n",
    "y = np.load(os.path.join(tile_dir, 'y.npy'))\n",
    "print(y.shape)"
   ]
  },
  {
   "cell_type": "code",
   "execution_count": null,
   "metadata": {},
   "outputs": [],
   "source": []
  },
  {
   "cell_type": "code",
   "execution_count": 31,
   "metadata": {},
   "outputs": [
    {
     "name": "stdout",
     "output_type": "stream",
     "text": [
      "{1.0, 2.0, 21.0, 24.0, 152.0, 28.0, 36.0, 176.0, 49.0, 54.0, 61.0, 69.0, 71.0, 72.0, 75.0, 76.0, 205.0, 204.0, 208.0, 212.0, 217.0, 225.0, 236.0, 111.0, 121.0, 122.0, 123.0, 124.0}\n"
     ]
    }
   ],
   "source": [
    "# Check CDL classes\n",
    "print(set(y))"
   ]
  },
  {
   "cell_type": "code",
   "execution_count": 32,
   "metadata": {},
   "outputs": [
    {
     "name": "stdout",
     "output_type": "stream",
     "text": [
      "{0, 1, 2, 3, 4, 5, 6, 7, 8, 9, 10, 11, 12, 13, 14, 15, 16, 17, 18, 19, 20, 21, 22, 23, 24, 25, 26, 27}\n"
     ]
    }
   ],
   "source": [
    "y = le.fit_transform(y)\n",
    "print(set(y))"
   ]
  },
  {
   "cell_type": "markdown",
   "metadata": {},
   "source": [
    "# Load in Epochs' Weights + Run each on tile embeddings + Random Forest "
   ]
  },
  {
   "cell_type": "code",
   "execution_count": 33,
   "metadata": {},
   "outputs": [],
   "source": [
    "#set up model\n",
    "in_channels = 4\n",
    "z_dim = 512\n",
    "cuda = torch.cuda.is_available()"
   ]
  },
  {
   "cell_type": "code",
   "execution_count": 34,
   "metadata": {},
   "outputs": [],
   "source": [
    "def getTileEmbeddings(tilenet):\n",
    "    X = np.zeros((n_tiles, z_dim))\n",
    "    for idx in range(n_tiles):\n",
    "        tile = np.load(os.path.join(tile_dir, '{}tile.npy'.format(idx+1)))\n",
    "        # Get first 4 NAIP channels (5th is CDL mask)\n",
    "        tile = tile[:,:,:4]\n",
    "        # Rearrange to PyTorch order\n",
    "        tile = np.moveaxis(tile, -1, 0)\n",
    "        tile = np.expand_dims(tile, axis=0)\n",
    "        # Scale to [0, 1]\n",
    "        tile = tile / 255\n",
    "        # Embed tile\n",
    "        tile = torch.from_numpy(tile).float()\n",
    "        tile = Variable(tile)\n",
    "        if cuda: tile = tile.cuda()\n",
    "        z = tilenet.encode(tile)\n",
    "        if cuda: z = z.cpu()\n",
    "        z = z.data.numpy() #1 by 512\n",
    "        X[idx,:] = z\n",
    "    return X"
   ]
  },
  {
   "cell_type": "code",
   "execution_count": 35,
   "metadata": {},
   "outputs": [
    {
     "name": "stdout",
     "output_type": "stream",
     "text": [
      "Results for Epoch Number:  1\n",
      "Mean accuracy: 0.6643\n",
      "Standard deviation: 0.0288\n",
      "Results for Epoch Number:  2\n",
      "Mean accuracy: 0.6795\n",
      "Standard deviation: 0.0331\n",
      "Results for Epoch Number:  3\n",
      "Mean accuracy: 0.6888\n",
      "Standard deviation: 0.0317\n",
      "Results for Epoch Number:  4\n",
      "Mean accuracy: 0.7085\n",
      "Standard deviation: 0.0300\n",
      "Results for Epoch Number:  5\n",
      "Mean accuracy: 0.6946\n",
      "Standard deviation: 0.0287\n",
      "Results for Epoch Number:  6\n",
      "Mean accuracy: 0.7040\n",
      "Standard deviation: 0.0300\n",
      "Results for Epoch Number:  7\n",
      "Mean accuracy: 0.7172\n",
      "Standard deviation: 0.0265\n",
      "Results for Epoch Number:  8\n",
      "Mean accuracy: 0.7074\n",
      "Standard deviation: 0.0296\n",
      "Results for Epoch Number:  9\n",
      "Mean accuracy: 0.7087\n",
      "Standard deviation: 0.0247\n"
     ]
    },
    {
     "ename": "FileNotFoundError",
     "evalue": "[Errno 2] No such file or directory: '../models/strat2.1_ep10.ckpt'",
     "output_type": "error",
     "traceback": [
      "\u001b[0;31m---------------------------------------------------------------------------\u001b[0m",
      "\u001b[0;31mFileNotFoundError\u001b[0m                         Traceback (most recent call last)",
      "\u001b[0;32m<ipython-input-35-7c7cb60cabc3>\u001b[0m in \u001b[0;36m<module>\u001b[0;34m\u001b[0m\n\u001b[1;32m      8\u001b[0m     \u001b[0mmodel_fn\u001b[0m \u001b[0;34m=\u001b[0m \u001b[0;34m\"../models/strat2.1_ep\"\u001b[0m\u001b[0;34m+\u001b[0m\u001b[0mstr\u001b[0m\u001b[0;34m(\u001b[0m\u001b[0mcurEpoch\u001b[0m\u001b[0;34m)\u001b[0m\u001b[0;34m+\u001b[0m\u001b[0;34m\".ckpt\"\u001b[0m \u001b[0;31m#open file\u001b[0m\u001b[0;34m\u001b[0m\u001b[0;34m\u001b[0m\u001b[0m\n\u001b[1;32m      9\u001b[0m     \u001b[0;31m#checkpoint = torch.load(model_fn)\u001b[0m\u001b[0;34m\u001b[0m\u001b[0;34m\u001b[0m\u001b[0;34m\u001b[0m\u001b[0m\n\u001b[0;32m---> 10\u001b[0;31m     \u001b[0mtilenet\u001b[0m\u001b[0;34m.\u001b[0m\u001b[0mload_state_dict\u001b[0m\u001b[0;34m(\u001b[0m\u001b[0mtorch\u001b[0m\u001b[0;34m.\u001b[0m\u001b[0mload\u001b[0m\u001b[0;34m(\u001b[0m\u001b[0mmodel_fn\u001b[0m\u001b[0;34m)\u001b[0m\u001b[0;34m,\u001b[0m \u001b[0mstrict\u001b[0m\u001b[0;34m=\u001b[0m\u001b[0;32mFalse\u001b[0m\u001b[0;34m)\u001b[0m\u001b[0;34m\u001b[0m\u001b[0;34m\u001b[0m\u001b[0m\n\u001b[0m\u001b[1;32m     11\u001b[0m     \u001b[0;31m#tilenet.load_state_dict(checkpoint)\u001b[0m\u001b[0;34m\u001b[0m\u001b[0;34m\u001b[0m\u001b[0;34m\u001b[0m\u001b[0m\n\u001b[1;32m     12\u001b[0m     \u001b[0mtilenet\u001b[0m\u001b[0;34m.\u001b[0m\u001b[0meval\u001b[0m\u001b[0;34m(\u001b[0m\u001b[0;34m)\u001b[0m\u001b[0;34m\u001b[0m\u001b[0;34m\u001b[0m\u001b[0m\n",
      "\u001b[0;32m/opt/anaconda3/lib/python3.7/site-packages/torch/serialization.py\u001b[0m in \u001b[0;36mload\u001b[0;34m(f, map_location, pickle_module)\u001b[0m\n\u001b[1;32m    364\u001b[0m             \u001b[0;34m(\u001b[0m\u001b[0msys\u001b[0m\u001b[0;34m.\u001b[0m\u001b[0mversion_info\u001b[0m\u001b[0;34m[\u001b[0m\u001b[0;36m0\u001b[0m\u001b[0;34m]\u001b[0m \u001b[0;34m==\u001b[0m \u001b[0;36m3\u001b[0m \u001b[0;32mand\u001b[0m \u001b[0misinstance\u001b[0m\u001b[0;34m(\u001b[0m\u001b[0mf\u001b[0m\u001b[0;34m,\u001b[0m \u001b[0mpathlib\u001b[0m\u001b[0;34m.\u001b[0m\u001b[0mPath\u001b[0m\u001b[0;34m)\u001b[0m\u001b[0;34m)\u001b[0m\u001b[0;34m:\u001b[0m\u001b[0;34m\u001b[0m\u001b[0;34m\u001b[0m\u001b[0m\n\u001b[1;32m    365\u001b[0m         \u001b[0mnew_fd\u001b[0m \u001b[0;34m=\u001b[0m \u001b[0;32mTrue\u001b[0m\u001b[0;34m\u001b[0m\u001b[0;34m\u001b[0m\u001b[0m\n\u001b[0;32m--> 366\u001b[0;31m         \u001b[0mf\u001b[0m \u001b[0;34m=\u001b[0m \u001b[0mopen\u001b[0m\u001b[0;34m(\u001b[0m\u001b[0mf\u001b[0m\u001b[0;34m,\u001b[0m \u001b[0;34m'rb'\u001b[0m\u001b[0;34m)\u001b[0m\u001b[0;34m\u001b[0m\u001b[0;34m\u001b[0m\u001b[0m\n\u001b[0m\u001b[1;32m    367\u001b[0m     \u001b[0;32mtry\u001b[0m\u001b[0;34m:\u001b[0m\u001b[0;34m\u001b[0m\u001b[0;34m\u001b[0m\u001b[0m\n\u001b[1;32m    368\u001b[0m         \u001b[0;32mreturn\u001b[0m \u001b[0m_load\u001b[0m\u001b[0;34m(\u001b[0m\u001b[0mf\u001b[0m\u001b[0;34m,\u001b[0m \u001b[0mmap_location\u001b[0m\u001b[0;34m,\u001b[0m \u001b[0mpickle_module\u001b[0m\u001b[0;34m)\u001b[0m\u001b[0;34m\u001b[0m\u001b[0;34m\u001b[0m\u001b[0m\n",
      "\u001b[0;31mFileNotFoundError\u001b[0m: [Errno 2] No such file or directory: '../models/strat2.1_ep10.ckpt'"
     ]
    }
   ],
   "source": [
    "epochsToAccuracy = []\n",
    "epochsToSTD = []\n",
    "for i in range(0,epochs): #iterator\n",
    "    curEpoch = i + 1\n",
    "    # Setting up model\n",
    "    tilenet = ResNet18()\n",
    "    if cuda: tilenet.cuda()\n",
    "    model_fn = \"../models/strat2.1_ep\"+str(curEpoch)+\".ckpt\" #open file\n",
    "    #checkpoint = torch.load(model_fn)\n",
    "    tilenet.load_state_dict(torch.load(model_fn), strict=False)\n",
    "    #tilenet.load_state_dict(checkpoint)\n",
    "    tilenet.eval()\n",
    "    \n",
    "    X = getTileEmbeddings(tilenet) #function above\n",
    "    \n",
    "    #train random forest classifier\n",
    "    n_trials = 100\n",
    "    accs = np.zeros((n_trials,))\n",
    "    for i in range(n_trials):\n",
    "        # Splitting data and training RF classifer\n",
    "        X_tr, X_te, y_tr, y_te = train_test_split(X, y, test_size=0.2)\n",
    "        rf = RandomForestClassifier(n_estimators = 100)\n",
    "        rf.fit(X_tr, y_tr) #X-tr is 512 by 1\n",
    "        accs[i] = rf.score(X_te, y_te)\n",
    "    print(\"Results for Epoch Number: \", str(curEpoch))\n",
    "    print('Mean accuracy: {:0.4f}'.format(accs.mean()))\n",
    "    print('Standard deviation: {:0.4f}'.format(accs.std()))\n",
    "    epochsToAccuracy.append((curEpoch,accs.mean()))\n",
    "    epochsToSTD.append((curEpoch,accs.std()))\n",
    "print(epochsToAccuracy)\n",
    "print(epochsToSTD)\n",
    "    #save value\n",
    "    \n",
    "    \n",
    "    \n",
    "    "
   ]
  },
  {
   "cell_type": "code",
   "execution_count": 44,
   "metadata": {},
   "outputs": [
    {
     "ename": "ValueError",
     "evalue": "multiclass format is not supported",
     "output_type": "error",
     "traceback": [
      "\u001b[0;31m---------------------------------------------------------------------------\u001b[0m",
      "\u001b[0;31mValueError\u001b[0m                                Traceback (most recent call last)",
      "\u001b[0;32m<ipython-input-44-d005ffffdac9>\u001b[0m in \u001b[0;36m<module>\u001b[0;34m\u001b[0m\n\u001b[1;32m     26\u001b[0m \u001b[0mrf_probs\u001b[0m \u001b[0;34m=\u001b[0m \u001b[0mrf\u001b[0m\u001b[0;34m.\u001b[0m\u001b[0mpredict_proba\u001b[0m\u001b[0;34m(\u001b[0m\u001b[0mX_te\u001b[0m\u001b[0;34m)\u001b[0m\u001b[0;34m[\u001b[0m\u001b[0;34m:\u001b[0m\u001b[0;34m,\u001b[0m \u001b[0;36m1\u001b[0m\u001b[0;34m]\u001b[0m\u001b[0;34m\u001b[0m\u001b[0;34m\u001b[0m\u001b[0m\n\u001b[1;32m     27\u001b[0m \u001b[0;32mfrom\u001b[0m \u001b[0msklearn\u001b[0m\u001b[0;34m.\u001b[0m\u001b[0mmetrics\u001b[0m \u001b[0;32mimport\u001b[0m \u001b[0mroc_auc_score\u001b[0m\u001b[0;34m\u001b[0m\u001b[0;34m\u001b[0m\u001b[0m\n\u001b[0;32m---> 28\u001b[0;31m \u001b[0mroc_value\u001b[0m \u001b[0;34m=\u001b[0m \u001b[0mroc_auc_score\u001b[0m\u001b[0;34m(\u001b[0m\u001b[0my_te\u001b[0m\u001b[0;34m,\u001b[0m \u001b[0mrf_probs\u001b[0m\u001b[0;34m)\u001b[0m\u001b[0;34m\u001b[0m\u001b[0;34m\u001b[0m\u001b[0m\n\u001b[0m\u001b[1;32m     29\u001b[0m \u001b[0mprint\u001b[0m\u001b[0;34m(\u001b[0m\u001b[0mroc_value\u001b[0m\u001b[0;34m)\u001b[0m\u001b[0;34m\u001b[0m\u001b[0;34m\u001b[0m\u001b[0m\n\u001b[1;32m     30\u001b[0m \u001b[0;34m\u001b[0m\u001b[0m\n",
      "\u001b[0;32m/opt/anaconda3/lib/python3.7/site-packages/sklearn/metrics/ranking.py\u001b[0m in \u001b[0;36mroc_auc_score\u001b[0;34m(y_true, y_score, average, sample_weight, max_fpr)\u001b[0m\n\u001b[1;32m    354\u001b[0m     return _average_binary_score(\n\u001b[1;32m    355\u001b[0m         \u001b[0m_binary_roc_auc_score\u001b[0m\u001b[0;34m,\u001b[0m \u001b[0my_true\u001b[0m\u001b[0;34m,\u001b[0m \u001b[0my_score\u001b[0m\u001b[0;34m,\u001b[0m \u001b[0maverage\u001b[0m\u001b[0;34m,\u001b[0m\u001b[0;34m\u001b[0m\u001b[0;34m\u001b[0m\u001b[0m\n\u001b[0;32m--> 356\u001b[0;31m         sample_weight=sample_weight)\n\u001b[0m\u001b[1;32m    357\u001b[0m \u001b[0;34m\u001b[0m\u001b[0m\n\u001b[1;32m    358\u001b[0m \u001b[0;34m\u001b[0m\u001b[0m\n",
      "\u001b[0;32m/opt/anaconda3/lib/python3.7/site-packages/sklearn/metrics/base.py\u001b[0m in \u001b[0;36m_average_binary_score\u001b[0;34m(binary_metric, y_true, y_score, average, sample_weight)\u001b[0m\n\u001b[1;32m     72\u001b[0m     \u001b[0my_type\u001b[0m \u001b[0;34m=\u001b[0m \u001b[0mtype_of_target\u001b[0m\u001b[0;34m(\u001b[0m\u001b[0my_true\u001b[0m\u001b[0;34m)\u001b[0m\u001b[0;34m\u001b[0m\u001b[0;34m\u001b[0m\u001b[0m\n\u001b[1;32m     73\u001b[0m     \u001b[0;32mif\u001b[0m \u001b[0my_type\u001b[0m \u001b[0;32mnot\u001b[0m \u001b[0;32min\u001b[0m \u001b[0;34m(\u001b[0m\u001b[0;34m\"binary\"\u001b[0m\u001b[0;34m,\u001b[0m \u001b[0;34m\"multilabel-indicator\"\u001b[0m\u001b[0;34m)\u001b[0m\u001b[0;34m:\u001b[0m\u001b[0;34m\u001b[0m\u001b[0;34m\u001b[0m\u001b[0m\n\u001b[0;32m---> 74\u001b[0;31m         \u001b[0;32mraise\u001b[0m \u001b[0mValueError\u001b[0m\u001b[0;34m(\u001b[0m\u001b[0;34m\"{0} format is not supported\"\u001b[0m\u001b[0;34m.\u001b[0m\u001b[0mformat\u001b[0m\u001b[0;34m(\u001b[0m\u001b[0my_type\u001b[0m\u001b[0;34m)\u001b[0m\u001b[0;34m)\u001b[0m\u001b[0;34m\u001b[0m\u001b[0;34m\u001b[0m\u001b[0m\n\u001b[0m\u001b[1;32m     75\u001b[0m \u001b[0;34m\u001b[0m\u001b[0m\n\u001b[1;32m     76\u001b[0m     \u001b[0;32mif\u001b[0m \u001b[0my_type\u001b[0m \u001b[0;34m==\u001b[0m \u001b[0;34m\"binary\"\u001b[0m\u001b[0;34m:\u001b[0m\u001b[0;34m\u001b[0m\u001b[0;34m\u001b[0m\u001b[0m\n",
      "\u001b[0;31mValueError\u001b[0m: multiclass format is not supported"
     ]
    }
   ],
   "source": [
    "#Last Epoch (Number 9)\n",
    "\n",
    "#iterator\n",
    "i = 8\n",
    "curEpoch = i + 1\n",
    "# Setting up model\n",
    "tilenet = ResNet18()\n",
    "if cuda: tilenet.cuda()\n",
    "model_fn = \"../models/strat2.1_ep\"+str(curEpoch)+\".ckpt\" #open file\n",
    "#checkpoint = torch.load(model_fn)\n",
    "tilenet.load_state_dict(torch.load(model_fn), strict=False)\n",
    "#tilenet.load_state_dict(checkpoint)\n",
    "tilenet.eval()\n",
    "\n",
    "X = getTileEmbeddings(tilenet) #function above\n",
    "\n",
    "#train random forest classifier\n",
    "n_trials = 100\n",
    "accs = np.zeros((n_trials,))\n",
    "#for i in range(n_trials):\n",
    "    # Splitting data and training RF classifer\n",
    "X_tr, X_te, y_tr, y_te = train_test_split(X, y, test_size=0.2)\n",
    "rf = RandomForestClassifier(n_estimators = 100)\n",
    "rf.fit(X_tr, y_tr) #X-tr is 512 by 1\n",
    "rf_predictions = rf.predict(X_te)\n",
    "rf_probs = rf.predict_proba(X_te)[:, 1]\n",
    "from sklearn.metrics import roc_auc_score\n",
    "roc_value = roc_auc_score(y_te, rf_probs)\n",
    "print(roc_value)\n",
    "\n",
    "#accs[i] = rf.score(X_te, y_te)\n",
    "# print(\"Results for Epoch Number: \", str(curEpoch))\n",
    "# print('Mean accuracy: {:0.4f}'.format(accs.mean()))\n",
    "# print('Standard deviation: {:0.4f}'.format(accs.std()))\n",
    "# epochsToAccuracy.append((curEpoch,accs.mean()))\n",
    "# epochsToSTD.append((curEpoch,accs.std()))\n",
    "# print(epochsToAccuracy)\n",
    "# print(epochsToSTD)"
   ]
  },
  {
   "cell_type": "code",
   "execution_count": 36,
   "metadata": {},
   "outputs": [
    {
     "name": "stdout",
     "output_type": "stream",
     "text": [
      "[(1, 0.028760867511255634), (2, 0.03312476415010376), (3, 0.031718448890196364), (4, 0.03002082610455614), (5, 0.02874243378699861), (6, 0.02998912302819139), (7, 0.026469982999616753), (8, 0.029567676608079966), (9, 0.0246817240078565)]\n"
     ]
    }
   ],
   "source": [
    "print(epochsToSTD)"
   ]
  },
  {
   "cell_type": "code",
   "execution_count": 38,
   "metadata": {},
   "outputs": [
    {
     "data": {
      "image/png": "[encoded data removed]",
      "text/plain": [
       "<Figure size 432x288 with 1 Axes>"
      ]
     },
     "metadata": {
      "needs_background": "light"
     },
     "output_type": "display_data"
    },
    {
     "name": "stdout",
     "output_type": "stream",
     "text": [
      "0.7087499999999999 was the Max Accuracy\n"
     ]
    }
   ],
   "source": [
    "import matplotlib.pyplot as plt\n",
    "plt.plot(*zip(*epochsToAccuracy))\n",
    "plt.title('Triplet Augmentation Average Test Performance')\n",
    "plt.xlabel('Epochs')\n",
    "plt.ylabel('Accuracy')\n",
    "plt.show()\n",
    "print(epochsToAccuracy[8][1], \"was the Max Accuracy\")"
   ]
  },
  {
   "cell_type": "code",
   "execution_count": 40,
   "metadata": {},
   "outputs": [
    {
     "name": "stdout",
     "output_type": "stream",
     "text": [
      "The min loss was 8.036771008729934\n"
     ]
    },
    {
     "data": {
      "image/png": "[encoded data removed]",
      "text/plain": [
       "<Figure size 432x288 with 1 Axes>"
      ]
     },
     "metadata": {
      "needs_background": "light"
     },
     "output_type": "display_data"
    }
   ],
   "source": [
    "plt.plot(*zip(*total_list))\n",
    "plt.title('Triplet Augmentation Loss Performance')\n",
    "plt.xlabel('Epochs')\n",
    "plt.ylabel('Loss')\n",
    "print(\"The min loss was\",str(total_list[8][1]))\n",
    "plt.show()"
   ]
  },
  {
   "cell_type": "code",
   "execution_count": 41,
   "metadata": {},
   "outputs": [
    {
     "data": {
      "image/png": "[encoded data removed]",
      "text/plain": [
       "<Figure size 432x288 with 1 Axes>"
      ]
     },
     "metadata": {
      "needs_background": "light"
     },
     "output_type": "display_data"
    }
   ],
   "source": [
    "plt.plot(*zip(*epochsToSTD))\n",
    "plt.title('STD on Random Forest Test Prediction')\n",
    "plt.xlabel('Epochs')\n",
    "plt.ylabel('Standard Deviation')\n",
    "plt.show()"
   ]
  },
  {
   "cell_type": "markdown",
   "metadata": {},
   "source": []
  }
 ],
 "metadata": {
  "kernelspec": {
   "display_name": "Python 3",
   "language": "python",
   "name": "python3"
  },
  "language_info": {
   "codemirror_mode": {
    "name": "ipython",
    "version": 3
   },
   "file_extension": ".py",
   "mimetype": "text/x-python",
   "name": "python",
   "nbconvert_exporter": "python",
   "pygments_lexer": "ipython3",
   "version": "3.7.1"
  }
 },
 "nbformat": 4,
 "nbformat_minor": 2
}
