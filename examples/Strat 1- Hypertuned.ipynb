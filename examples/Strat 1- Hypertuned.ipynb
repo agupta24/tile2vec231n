{
 "cells": [
  {
   "cell_type": "markdown",
   "metadata": {},
   "source": [
    "# Imports + Path Specification"
   ]
  },
  {
   "cell_type": "code",
   "execution_count": 2,
   "metadata": {},
   "outputs": [],
   "source": [
    "import sys\n",
    "import os\n",
    "import torch\n",
    "from torch import optim\n",
    "from time import time"
   ]
  },
  {
   "cell_type": "code",
   "execution_count": 3,
   "metadata": {},
   "outputs": [],
   "source": [
    "tile2vec_dir = '/home/agupta21/gcloud/231n_gitproject'\n",
    "sys.path.append('../')\n",
    "sys.path.append(tile2vec_dir)"
   ]
  },
  {
   "cell_type": "code",
   "execution_count": 4,
   "metadata": {},
   "outputs": [],
   "source": [
    "from src.datasets import TileTripletsDataset, GetBands, RandomFlipAndRotate, ClipAndScale, ToFloatTensor, triplet_dataloader\n",
    "from src.tilenet import make_tilenet"
   ]
  },
  {
   "cell_type": "code",
   "execution_count": 5,
   "metadata": {},
   "outputs": [],
   "source": [
    "from src.training import prep_triplets, train_triplet_epoch"
   ]
  },
  {
   "cell_type": "code",
   "execution_count": 6,
   "metadata": {},
   "outputs": [],
   "source": [
    "import numpy as np\n",
    "from torch.autograd import Variable\n",
    "import sys\n",
    "from src.resnet import ResNet18"
   ]
  },
  {
   "cell_type": "code",
   "execution_count": 7,
   "metadata": {},
   "outputs": [],
   "source": [
    "#Random Forest Classification\n",
    "\n",
    "from sklearn.preprocessing import LabelEncoder\n",
    "from sklearn.ensemble import RandomForestClassifier\n",
    "from sklearn.model_selection import train_test_split"
   ]
  },
  {
   "cell_type": "markdown",
   "metadata": {},
   "source": [
    "# Dataloader + TileNet Setup"
   ]
  },
  {
   "cell_type": "code",
   "execution_count": 8,
   "metadata": {},
   "outputs": [
    {
     "name": "stdout",
     "output_type": "stream",
     "text": [
      "True\n"
     ]
    }
   ],
   "source": [
    "# Environment stuff\n",
    "os.environ['CUDA_VISIBLE_DEVICES'] = '0'\n",
    "cuda = torch.cuda.is_available()\n",
    "print(cuda)"
   ]
  },
  {
   "cell_type": "code",
   "execution_count": 9,
   "metadata": {},
   "outputs": [],
   "source": [
    "# Defining Parameters\n",
    "img_type = 'naip'\n",
    "tile_dir = '/home/agupta21/gcloud/231n_gitproject/data/triplets/'\n",
    "bands = 4\n",
    "augment = False\n",
    "batch_size = 50\n",
    "shuffle = True\n",
    "num_workers = 4\n",
    "n_triplets = 108700 #modification: adding 8700 more for semi-supervised learning purposes"
   ]
  },
  {
   "cell_type": "code",
   "execution_count": 10,
   "metadata": {},
   "outputs": [
    {
     "name": "stdout",
     "output_type": "stream",
     "text": [
      "Dataloader set up complete.\n"
     ]
    }
   ],
   "source": [
    "dataloader = triplet_dataloader(img_type, tile_dir, bands=bands, augment=augment,\n",
    "                                batch_size=batch_size, shuffle=shuffle, num_workers=num_workers, \n",
    "                                n_triplets=n_triplets, pairs_only=True)\n",
    "print('Dataloader set up complete.')"
   ]
  },
  {
   "cell_type": "code",
   "execution_count": 11,
   "metadata": {},
   "outputs": [],
   "source": [
    "in_channels = bands\n",
    "z_dim = 512"
   ]
  },
  {
   "cell_type": "code",
   "execution_count": 12,
   "metadata": {},
   "outputs": [
    {
     "name": "stdout",
     "output_type": "stream",
     "text": [
      "TileNet set up complete.\n"
     ]
    }
   ],
   "source": [
    "TileNet = make_tilenet(in_channels=in_channels, z_dim=z_dim, strat2=False)\n",
    "TileNet.train()\n",
    "if cuda: TileNet.cuda()\n",
    "print('TileNet set up complete.')"
   ]
  },
  {
   "cell_type": "code",
   "execution_count": 13,
   "metadata": {},
   "outputs": [],
   "source": [
    "#Hyperparameter \n",
    "lr = 0.0003 #hyper tuned\n",
    "optimizer = optim.Adam(TileNet.parameters(), lr=lr, betas=(0.9, 0.999)) #hyper tuned"
   ]
  },
  {
   "cell_type": "markdown",
   "metadata": {},
   "source": [
    "# Training Model + Writing Each Epoch to File"
   ]
  },
  {
   "cell_type": "code",
   "execution_count": 14,
   "metadata": {},
   "outputs": [],
   "source": [
    "epochs = 10\n",
    "margin = 10\n",
    "l2 = 0.01\n",
    "print_every = 10000\n",
    "save_models = True"
   ]
  },
  {
   "cell_type": "code",
   "execution_count": 15,
   "metadata": {},
   "outputs": [],
   "source": [
    "model_dir = '/home/agupta21/gcloud/231n_gitproject/models/'\n",
    "if not os.path.exists(model_dir): os.makedirs(model_dir)"
   ]
  },
  {
   "cell_type": "code",
   "execution_count": 16,
   "metadata": {},
   "outputs": [
    {
     "name": "stdout",
     "output_type": "stream",
     "text": [
      "Begin training.................\n",
      "Epoch 1: [10000/108700 (9%)], Avg loss: 6.0657\n",
      "Epoch 1: [20000/108700 (18%)], Avg loss: 5.3830\n",
      "Epoch 1: [30000/108700 (28%)], Avg loss: 5.0873\n",
      "Epoch 1: [50000/108700 (46%)], Avg loss: 4.9285\n",
      "Epoch 1: [60000/108700 (55%)], Avg loss: 4.7964\n",
      "Epoch 1: [70000/108700 (64%)], Avg loss: 4.8594\n",
      "Epoch 1: [80000/108700 (74%)], Avg loss: 4.6677\n",
      "Epoch 1: [90000/108700 (83%)], Avg loss: 4.7307\n",
      "Epoch 1: [100000/108700 (92%)], Avg loss: 4.6602\n",
      "Epoch 2: [10000/108700 (9%)], Avg loss: 4.6709\n",
      "Epoch 2: [20000/108700 (18%)], Avg loss: 4.6138\n",
      "Epoch 2: [30000/108700 (28%)], Avg loss: 4.5226\n",
      "Epoch 2: [40000/108700 (37%)], Avg loss: 4.5351\n",
      "Epoch 2: [50000/108700 (46%)], Avg loss: 4.5406\n",
      "Epoch 2: [60000/108700 (55%)], Avg loss: 4.5161\n",
      "Epoch 2: [70000/108700 (64%)], Avg loss: 4.4106\n",
      "Epoch 2: [80000/108700 (74%)], Avg loss: 4.4889\n",
      "Epoch 2: [90000/108700 (83%)], Avg loss: 4.4245\n",
      "Epoch 2: [100000/108700 (92%)], Avg loss: 4.4215\n",
      "Finished epoch 2: 5658.949s\n",
      "  Average loss: 4.5061\n",
      "  Average l_n: 3.9917\n",
      "  Average l_d: -13.3472\n",
      "  Average l_nd: -9.3555\n",
      "\n",
      "Epoch 3: [10000/108700 (9%)], Avg loss: 4.4184\n",
      "Epoch 3: [20000/108700 (18%)], Avg loss: 4.3356\n",
      "Epoch 3: [30000/108700 (28%)], Avg loss: 4.3402\n",
      "Epoch 3: [40000/108700 (37%)], Avg loss: 4.3351\n",
      "Epoch 3: [50000/108700 (46%)], Avg loss: 4.2527\n",
      "Epoch 3: [60000/108700 (55%)], Avg loss: 4.3568\n",
      "Epoch 3: [70000/108700 (64%)], Avg loss: 4.1873\n",
      "Epoch 3: [80000/108700 (74%)], Avg loss: 4.2603\n",
      "Epoch 3: [90000/108700 (83%)], Avg loss: 4.2663\n",
      "Epoch 3: [100000/108700 (92%)], Avg loss: 4.2672\n",
      "Finished epoch 3: 8480.482s\n",
      "  Average loss: 4.2960\n",
      "  Average l_n: 3.7924\n",
      "  Average l_d: -13.2546\n",
      "  Average l_nd: -9.4622\n",
      "\n",
      "Epoch 4: [10000/108700 (9%)], Avg loss: 4.1862\n",
      "Epoch 4: [20000/108700 (18%)], Avg loss: 4.2318\n",
      "Epoch 4: [30000/108700 (28%)], Avg loss: 4.1843\n",
      "Epoch 4: [40000/108700 (37%)], Avg loss: 4.1513\n",
      "Epoch 4: [50000/108700 (46%)], Avg loss: 4.2747\n",
      "Epoch 4: [60000/108700 (55%)], Avg loss: 4.1700\n",
      "Epoch 4: [70000/108700 (64%)], Avg loss: 4.0977\n",
      "Epoch 4: [80000/108700 (74%)], Avg loss: 4.1372\n",
      "Epoch 4: [90000/108700 (83%)], Avg loss: 4.1463\n",
      "Epoch 4: [100000/108700 (92%)], Avg loss: 4.0992\n",
      "Finished epoch 4: 11289.975s\n",
      "  Average loss: 4.1648\n",
      "  Average l_n: 3.6505\n",
      "  Average l_d: -13.1768\n",
      "  Average l_nd: -9.5264\n",
      "\n",
      "Epoch 5: [10000/108700 (9%)], Avg loss: 4.1135\n",
      "Epoch 5: [20000/108700 (18%)], Avg loss: 4.0818\n",
      "Epoch 5: [30000/108700 (28%)], Avg loss: 4.0379\n",
      "Epoch 5: [40000/108700 (37%)], Avg loss: 4.0470\n",
      "Epoch 5: [50000/108700 (46%)], Avg loss: 4.1520\n",
      "Epoch 5: [60000/108700 (55%)], Avg loss: 4.1179\n",
      "Epoch 5: [70000/108700 (64%)], Avg loss: 4.1169\n",
      "Epoch 5: [80000/108700 (74%)], Avg loss: 4.0407\n",
      "Epoch 5: [90000/108700 (83%)], Avg loss: 4.0694\n",
      "Epoch 5: [100000/108700 (92%)], Avg loss: 4.1348\n",
      "Finished epoch 5: 14099.898s\n",
      "  Average loss: 4.0908\n",
      "  Average l_n: 3.5749\n",
      "  Average l_d: -13.1287\n",
      "  Average l_nd: -9.5537\n",
      "\n",
      "Epoch 6: [10000/108700 (9%)], Avg loss: 4.0336\n",
      "Epoch 6: [20000/108700 (18%)], Avg loss: 4.0275\n",
      "Epoch 6: [30000/108700 (28%)], Avg loss: 4.0320\n",
      "Epoch 6: [40000/108700 (37%)], Avg loss: 4.0531\n",
      "Epoch 6: [50000/108700 (46%)], Avg loss: 4.0640\n",
      "Epoch 6: [60000/108700 (55%)], Avg loss: 4.0118\n",
      "Epoch 6: [70000/108700 (64%)], Avg loss: 3.9986\n",
      "Epoch 6: [80000/108700 (74%)], Avg loss: 3.9505\n",
      "Epoch 6: [90000/108700 (83%)], Avg loss: 3.8992\n",
      "Epoch 6: [100000/108700 (92%)], Avg loss: 4.0554\n",
      "Finished epoch 6: 16928.099s\n",
      "  Average loss: 4.0133\n",
      "  Average l_n: 3.5248\n",
      "  Average l_d: -13.1348\n",
      "  Average l_nd: -9.6100\n",
      "\n",
      "Epoch 7: [10000/108700 (9%)], Avg loss: 4.0113\n",
      "Epoch 7: [20000/108700 (18%)], Avg loss: 3.9274\n",
      "Epoch 7: [30000/108700 (28%)], Avg loss: 3.8973\n",
      "Epoch 7: [40000/108700 (37%)], Avg loss: 3.9978\n",
      "Epoch 7: [50000/108700 (46%)], Avg loss: 3.9740\n",
      "Epoch 7: [60000/108700 (55%)], Avg loss: 3.9936\n",
      "Epoch 7: [70000/108700 (64%)], Avg loss: 3.9575\n",
      "Epoch 7: [80000/108700 (74%)], Avg loss: 3.9175\n",
      "Epoch 7: [90000/108700 (83%)], Avg loss: 3.9328\n",
      "Epoch 7: [100000/108700 (92%)], Avg loss: 3.9765\n",
      "Finished epoch 7: 19739.246s\n",
      "  Average loss: 3.9561\n",
      "  Average l_n: 3.4540\n",
      "  Average l_d: -13.0898\n",
      "  Average l_nd: -9.6358\n",
      "\n",
      "Epoch 8: [10000/108700 (9%)], Avg loss: 3.9628\n",
      "Epoch 8: [20000/108700 (18%)], Avg loss: 4.0092\n",
      "Epoch 8: [30000/108700 (28%)], Avg loss: 3.9569\n",
      "Epoch 8: [40000/108700 (37%)], Avg loss: 3.8231\n",
      "Epoch 8: [50000/108700 (46%)], Avg loss: 3.8949\n",
      "Epoch 8: [60000/108700 (55%)], Avg loss: 3.8967\n",
      "Epoch 8: [70000/108700 (64%)], Avg loss: 3.8764\n",
      "Epoch 8: [80000/108700 (74%)], Avg loss: 3.8277\n",
      "Epoch 8: [90000/108700 (83%)], Avg loss: 3.8811\n",
      "Epoch 8: [100000/108700 (92%)], Avg loss: 3.9173\n",
      "Finished epoch 8: 22547.870s\n",
      "  Average loss: 3.9093\n",
      "  Average l_n: 3.4138\n",
      "  Average l_d: -13.0882\n",
      "  Average l_nd: -9.6744\n",
      "\n",
      "Epoch 9: [10000/108700 (9%)], Avg loss: 3.9366\n",
      "Epoch 9: [20000/108700 (18%)], Avg loss: 3.8647\n",
      "Epoch 9: [30000/108700 (28%)], Avg loss: 3.8471\n",
      "Epoch 9: [40000/108700 (37%)], Avg loss: 3.8449\n",
      "Epoch 9: [50000/108700 (46%)], Avg loss: 3.8690\n",
      "Epoch 9: [60000/108700 (55%)], Avg loss: 3.8461\n",
      "Epoch 9: [70000/108700 (64%)], Avg loss: 3.8508\n",
      "Epoch 9: [80000/108700 (74%)], Avg loss: 3.8551\n",
      "Epoch 9: [90000/108700 (83%)], Avg loss: 3.8110\n",
      "Epoch 9: [100000/108700 (92%)], Avg loss: 3.8822\n",
      "Epoch 10: [10000/108700 (9%)], Avg loss: 3.8197\n",
      "Epoch 10: [30000/108700 (28%)], Avg loss: 3.7523\n",
      "Epoch 10: [40000/108700 (37%)], Avg loss: 3.7831\n",
      "Epoch 10: [50000/108700 (46%)], Avg loss: 3.8829\n",
      "Epoch 10: [60000/108700 (55%)], Avg loss: 3.8553\n",
      "Epoch 10: [70000/108700 (64%)], Avg loss: 3.7922\n",
      "Epoch 10: [80000/108700 (74%)], Avg loss: 3.8018\n",
      "Epoch 10: [90000/108700 (83%)], Avg loss: 3.8321\n",
      "Finished epoch 10: 28165.470s\n",
      "  Average loss: 3.8095\n",
      "  Average l_n: 3.3007\n",
      "  Average l_d: -13.0237\n",
      "  Average l_nd: -9.7230\n",
      "\n"
     ]
    }
   ],
   "source": [
    "t0 = time()\n",
    "#with open(results_fn, 'w') as file:\n",
    "\n",
    "plot_list = []\n",
    "print('Begin training.................')\n",
    "for epoch in range(0, epochs):\n",
    "    (avg_loss, bullshit, avg_l_n, avg_l_d, avg_l_nd) = train_triplet_epoch(\n",
    "        TileNet, cuda, dataloader, optimizer, epoch+1, margin=margin, l2=l2,\n",
    "        print_every=print_every, t0=t0)\n",
    "    plot_list.append((epoch+1,avg_loss))\n",
    "    append_name = \"strat1ht1_ep\" + str(epoch+1) + \".ckpt\"\n",
    "    if save_models:\n",
    "        model_fn = os.path.join(model_dir,append_name)\n",
    "        torch.save(TileNet.state_dict(),model_fn)"
   ]
  },
  {
   "cell_type": "code",
   "execution_count": 17,
   "metadata": {},
   "outputs": [
    {
     "name": "stdout",
     "output_type": "stream",
     "text": [
      "[(1, 4.983395866329997), (2, 4.506065688444697), (3, 4.296001369292953), (4, 4.164814760077405), (5, 4.090833804644679), (6, 4.013302650600809), (7, 3.9560943651111606), (8, 3.909276813460581), (9, 3.861001264423872), (10, 3.8094547690880223)]\n"
     ]
    }
   ],
   "source": [
    "print(plot_list)\n"
   ]
  },
  {
   "cell_type": "markdown",
   "metadata": {},
   "source": [
    "# Pre Process Y Values"
   ]
  },
  {
   "cell_type": "code",
   "execution_count": 18,
   "metadata": {},
   "outputs": [
    {
     "name": "stdout",
     "output_type": "stream",
     "text": [
      "(1000,)\n"
     ]
    }
   ],
   "source": [
    "#note to self: need to embed tiles first and then figure out loop for reading in the saved model and plotting\n",
    "#the classification accuracies per epoch\n",
    "tile_dir = '../data/tiles'\n",
    "n_tiles = 1000\n",
    "y = np.load(os.path.join(tile_dir, 'y.npy'))\n",
    "print(y.shape)\n",
    "#print(set(y))"
   ]
  },
  {
   "cell_type": "code",
   "execution_count": null,
   "metadata": {},
   "outputs": [],
   "source": []
  },
  {
   "cell_type": "code",
   "execution_count": 19,
   "metadata": {},
   "outputs": [
    {
     "name": "stdout",
     "output_type": "stream",
     "text": [
      "{1.0, 2.0, 21.0, 24.0, 152.0, 28.0, 36.0, 176.0, 49.0, 54.0, 61.0, 69.0, 71.0, 72.0, 75.0, 76.0, 205.0, 204.0, 208.0, 212.0, 217.0, 225.0, 236.0, 111.0, 121.0, 122.0, 123.0, 124.0}\n"
     ]
    }
   ],
   "source": [
    "# Check CDL classes\n",
    "print(set(y))"
   ]
  },
  {
   "cell_type": "code",
   "execution_count": 20,
   "metadata": {},
   "outputs": [
    {
     "name": "stdout",
     "output_type": "stream",
     "text": [
      "{0, 1, 2, 3, 4, 5, 6, 7, 8, 9, 10, 11, 12, 13, 14, 15, 16, 17, 18, 19, 20, 21, 22, 23, 24, 25, 26, 27}\n"
     ]
    }
   ],
   "source": [
    "y = LabelEncoder().fit_transform(y)\n",
    "print(set(y))"
   ]
  },
  {
   "cell_type": "markdown",
   "metadata": {},
   "source": [
    "# Load in Epochs' Weights + Run each on tile embeddings + Random Forest "
   ]
  },
  {
   "cell_type": "code",
   "execution_count": 21,
   "metadata": {},
   "outputs": [],
   "source": [
    "#set up model\n",
    "in_channels = 4\n",
    "z_dim = 512\n",
    "cuda = torch.cuda.is_available()"
   ]
  },
  {
   "cell_type": "code",
   "execution_count": 22,
   "metadata": {},
   "outputs": [],
   "source": [
    "def getTileEmbeddings(tilenet):\n",
    "    X = np.zeros((n_tiles, z_dim))\n",
    "    for idx in range(n_tiles):\n",
    "        tile = np.load(os.path.join(tile_dir, '{}tile.npy'.format(idx+1)))\n",
    "        # Get first 4 NAIP channels (5th is CDL mask)\n",
    "        tile = tile[:,:,:4]\n",
    "        # Rearrange to PyTorch order\n",
    "        tile = np.moveaxis(tile, -1, 0)\n",
    "        tile = np.expand_dims(tile, axis=0)\n",
    "        # Scale to [0, 1]\n",
    "        tile = tile / 255\n",
    "        # Embed tile\n",
    "        tile = torch.from_numpy(tile).float()\n",
    "        tile = Variable(tile)\n",
    "        if cuda: tile = tile.cuda()\n",
    "        z = tilenet.encode(tile)\n",
    "        if cuda: z = z.cpu()\n",
    "        z = z.data.numpy() #1 by 512\n",
    "        X[idx,:] = z\n",
    "    return X"
   ]
  },
  {
   "cell_type": "code",
   "execution_count": 23,
   "metadata": {},
   "outputs": [
    {
     "name": "stdout",
     "output_type": "stream",
     "text": [
      "Results for Epoch Number:  1\n",
      "Mean accuracy: 0.6844\n",
      "Standard deviation: 0.0322\n",
      "Results for Epoch Number:  2\n",
      "Mean accuracy: 0.6877\n",
      "Standard deviation: 0.0309\n",
      "Results for Epoch Number:  3\n",
      "Mean accuracy: 0.6893\n",
      "Standard deviation: 0.0323\n",
      "Results for Epoch Number:  5\n",
      "Mean accuracy: 0.6955\n",
      "Standard deviation: 0.0326\n",
      "Results for Epoch Number:  6\n",
      "Mean accuracy: 0.7120\n",
      "Standard deviation: 0.0322\n",
      "Results for Epoch Number:  7\n",
      "Mean accuracy: 0.7263\n",
      "Standard deviation: 0.0285\n",
      "Results for Epoch Number:  8\n",
      "Mean accuracy: 0.7094\n",
      "Standard deviation: 0.0281\n",
      "Results for Epoch Number:  9\n",
      "Mean accuracy: 0.7248\n",
      "Standard deviation: 0.0302\n",
      "Results for Epoch Number:  10\n",
      "Mean accuracy: 0.7274\n",
      "Standard deviation: 0.0329\n",
      "[(1, 0.68435), (2, 0.6876999999999999), (3, 0.6892500000000001), (4, 0.7052499999999999), (5, 0.69545), (6, 0.7120000000000001), (7, 0.7263499999999997), (8, 0.7094499999999999), (9, 0.7248499999999999), (10, 0.7274)]\n",
      "[(1, 0.03217650540378801), (2, 0.030946889989141056), (3, 0.032298413273719795), (4, 0.025033727249452877), (5, 0.03260440921102542), (6, 0.03222576608864403), (7, 0.028459225217844566), (8, 0.02811489818583734), (9, 0.030236195197147417), (10, 0.03292020656071284)]\n"
     ]
    }
   ],
   "source": [
    "epochsToAccuracy = []\n",
    "epochsToSTD = []\n",
    "for i in range(0,epochs): #iterator\n",
    "    curEpoch = i + 1\n",
    "    # Setting up model\n",
    "    tilenet = ResNet18()\n",
    "    if cuda: tilenet.cuda()\n",
    "    model_fn = \"../models/strat1ht1_ep\"+str(curEpoch)+\".ckpt\" #open file\n",
    "    #checkpoint = torch.load(model_fn)\n",
    "    tilenet.load_state_dict(torch.load(model_fn), strict=False)\n",
    "    #tilenet.load_state_dict(checkpoint)\n",
    "    tilenet.eval()\n",
    "    \n",
    "    X = getTileEmbeddings(tilenet) #function above\n",
    "    \n",
    "    #train random forest classifier\n",
    "    n_trials = 100\n",
    "    accs = np.zeros((n_trials,))\n",
    "    for i in range(n_trials):\n",
    "        # Splitting data and training RF classifer\n",
    "        X_tr, X_te, y_tr, y_te = train_test_split(X, y, test_size=0.2)\n",
    "        rf = RandomForestClassifier(n_estimators=100)\n",
    "        rf.fit(X_tr, y_tr) #X-tr is 512 by 1\n",
    "        accs[i] = rf.score(X_te, y_te)\n",
    "    print(\"Results for Epoch Number: \", str(curEpoch))\n",
    "    print('Mean accuracy: {:0.4f}'.format(accs.mean()))\n",
    "    print('Standard deviation: {:0.4f}'.format(accs.std()))\n",
    "    epochsToAccuracy.append((curEpoch,accs.mean()))\n",
    "    epochsToSTD.append((curEpoch,accs.std()))\n",
    "print(epochsToAccuracy)\n",
    "print(epochsToSTD)\n",
    "    #save value\n",
    "    \n",
    "    \n",
    "    \n",
    "    "
   ]
  },
  {
   "cell_type": "code",
   "execution_count": 24,
   "metadata": {},
   "outputs": [
    {
     "name": "stdout",
     "output_type": "stream",
     "text": [
      "[(1, 0.03217650540378801), (2, 0.030946889989141056), (3, 0.032298413273719795), (4, 0.025033727249452877), (5, 0.03260440921102542), (6, 0.03222576608864403), (7, 0.028459225217844566), (8, 0.02811489818583734), (9, 0.030236195197147417), (10, 0.03292020656071284)]\n"
     ]
    }
   ],
   "source": [
    "print(epochsToSTD)"
   ]
  },
  {
   "cell_type": "code",
   "execution_count": 28,
   "metadata": {},
   "outputs": [
    {
     "data": {
      "image/png": "[encoded data removed]",
      "text/plain": [
       "<Figure size 432x288 with 1 Axes>"
      ]
     },
     "metadata": {
      "needs_background": "light"
     },
     "output_type": "display_data"
    },
    {
     "name": "stdout",
     "output_type": "stream",
     "text": [
      "0.7274 was the Max Accuracy\n"
     ]
    }
   ],
   "source": [
    "import matplotlib.pyplot as plt\n",
    "plt.plot(*zip(*epochsToAccuracy))\n",
    "plt.title('Triplet Augmentation Average Test Performance')\n",
    "plt.xlabel('Epochs')\n",
    "plt.ylabel('Accuracy')\n",
    "plt.show()\n",
    "print(epochsToAccuracy[9][1], \"was the Max Accuracy\")"
   ]
  },
  {
   "cell_type": "code",
   "execution_count": 26,
   "metadata": {},
   "outputs": [
    {
     "name": "stdout",
     "output_type": "stream",
     "text": [
      "The min loss was 3.8094547690880223\n"
     ]
    },
    {
     "data": {
      "image/png": "[encoded data removed]",
      "text/plain": [
       "<Figure size 432x288 with 1 Axes>"
      ]
     },
     "metadata": {
      "needs_background": "light"
     },
     "output_type": "display_data"
    }
   ],
   "source": [
    "plt.plot(*zip(*plot_list))\n",
    "plt.title('Triplet Augmentation Loss Performance')\n",
    "plt.xlabel('Epochs')\n",
    "plt.ylabel('Loss')\n",
    "print(\"The min loss was\",str(plot_list[9][1]))\n",
    "plt.show()"
   ]
  },
  {
   "cell_type": "code",
   "execution_count": 27,
   "metadata": {},
   "outputs": [
    {
     "data": {
      "image/png": "[encoded data removed]",
      "text/plain": [
       "<Figure size 432x288 with 1 Axes>"
      ]
     },
     "metadata": {
      "needs_background": "light"
     },
     "output_type": "display_data"
    }
   ],
   "source": [
    "plt.plot(*zip(*epochsToSTD))\n",
    "plt.title('STD on Random Forest Test Prediction')\n",
    "plt.xlabel('Epochs')\n",
    "plt.ylabel('Standard Deviation')\n",
    "plt.show()"
   ]
  },
  {
   "cell_type": "markdown",
   "metadata": {},
   "source": [
    "# Code for Visualizations/Analysis"
   ]
  },
  {
   "cell_type": "code",
   "execution_count": 31,
   "metadata": {},
   "outputs": [
    {
     "name": "stdout",
     "output_type": "stream",
     "text": [
      "(200,)\n",
      "(200,)\n"
     ]
    }
   ],
   "source": [
    "#iterator\n",
    "i = 8\n",
    "curEpoch = i + 1\n",
    "# Setting up model\n",
    "tilenet = ResNet18()\n",
    "if cuda: tilenet.cuda()\n",
    "model_fn = \"../models/strat1ht1_ep\"+str(curEpoch)+\".ckpt\" #open file\n",
    "#checkpoint = torch.load(model_fn)\n",
    "tilenet.load_state_dict(torch.load(model_fn), strict=False)\n",
    "#tilenet.load_state_dict(checkpoint)\n",
    "tilenet.eval()\n",
    "\n",
    "X = getTileEmbeddings(tilenet) #function above\n",
    "\n",
    "#train random forest classifier\n",
    "n_trials = 100\n",
    "accs = np.zeros((n_trials,))\n",
    "#for i in range(n_trials):\n",
    "    # Splitting data and training RF classifer\n",
    "X_tr, X_te, y_tr, y_te = train_test_split(X, y, test_size=0.2)\n",
    "rf = RandomForestClassifier(n_estimators = 100)\n",
    "rf.fit(X_tr, y_tr) #X-tr is 512 by 1\n",
    "rf_predictions = rf.predict(X_te)\n",
    "print(rf_predictions.shape)\n",
    "rf_probs = rf.predict_proba(X_te)[:, 1]\n",
    "print(rf_probs.shape)\n",
    "\n",
    "# from sklearn.metrics import roc_auc_score\n",
    "# roc_value = roc_auc_score(y_te, rf_probs)\n",
    "# print(roc_value)\n",
    "\n",
    "#accs[i] = rf.score(X_te, y_te)\n",
    "# print(\"Results for Epoch Number: \", str(curEpoch))\n",
    "# print('Mean accuracy: {:0.4f}'.format(accs.mean()))\n",
    "# print('Standard deviation: {:0.4f}'.format(accs.std()))\n",
    "# epochsToAccuracy.append((curEpoch,accs.mean()))\n",
    "# epochsToSTD.append((curEpoch,accs.std()))\n",
    "# print(epochsToAccuracy)\n",
    "# print(epochsToSTD)"
   ]
  },
  {
   "cell_type": "code",
   "execution_count": 32,
   "metadata": {},
   "outputs": [
    {
     "name": "stdout",
     "output_type": "stream",
     "text": [
      "(200,)\n"
     ]
    }
   ],
   "source": [
    "print(y_te.shape)"
   ]
  },
  {
   "cell_type": "code",
   "execution_count": 35,
   "metadata": {},
   "outputs": [
    {
     "name": "stdout",
     "output_type": "stream",
     "text": [
      "[20  9  8  9 17  9  9 12 12 20 12 20 17  9 17  9  9 12  5  9  9 20  9  9\n",
      "  9 20  9  9  9 20  9 20  9 20  9  5 17  9  8  9 17 20 12 20 16 17  9  9\n",
      "  9  9  5 12  9  9 14 20 20 12  9 12 20 12  9  9  9  8 17 12  9  9  9 17\n",
      "  9  9  8  9  9 12  8 20 17  9 20 12 20  9  9 15  9 20  9  9  9  9  8 20\n",
      "  6 20 12  9  9 17  8  9 20  9  9  9 20  5 20 20  9 12  8  9 12 12  9  9\n",
      "  9  9  9 20  9 20 20 12 12  9 12  9 20 12 17  9 17 20  9 20  9 12  9  9\n",
      " 12 12  9 12  1  9  9  9 20  8  5  9 12 20  5  8 12 12  9 17  9 12 15  9\n",
      " 12  9 12  9 17 12  9  9  9 12  9 16  9 12 26 15  9  8 12  9  8  9  9  5\n",
      "  9  9 20  5 17  9 22 17]\n",
      "[0, 1, 2, 3, 4, 5, 6, 7, 8, 9, 10, 11, 12, 13, 14, 15, 16, 17, 18, 19, 20, 21, 22, 23, 24, 25, 26, 27]\n"
     ]
    }
   ],
   "source": [
    "#classes\n",
    "print(rf_predictions)\n",
    "print(list(set(y)))"
   ]
  },
  {
   "cell_type": "code",
   "execution_count": 38,
   "metadata": {},
   "outputs": [
    {
     "name": "stdout",
     "output_type": "stream",
     "text": [
      "(28, 28)\n",
      "   0   0   0   0   0   0   0   0   0   0   0   0   0   0   0   0   0   0   0   0   0   0   0   0   0   0   0   0\n",
      "   0   1   0   0   0   0   0   0   0   0   0   0   0   0   0   0   0   0   0   0   0   0   0   0   0   0   0   0\n",
      "   0   0   0   0   0   0   0   0   0   0   0   0   0   0   0   0   0   0   0   0   0   0   0   0   0   0   0   0\n",
      "   0   0   0   0   0   0   0   0   0   0   0   0   0   0   0   0   0   0   0   0   1   0   0   0   0   0   0   0\n",
      "   0   0   0   0   0   0   0   0   0   0   0   0   0   0   0   0   0   0   0   0   0   0   0   0   0   0   0   0\n",
      "   0   0   0   0   0   3   0   0   1   2   0   0   1   0   0   0   0   0   0   0   0   0   0   0   0   0   0   0\n",
      "   0   0   0   0   0   0   1   0   0   0   0   0   0   0   0   0   0   0   0   0   0   0   0   0   0   0   0   0\n",
      "   0   0   0   0   0   5   0   0   0   0   0   0   0   0   0   0   0   0   0   0   0   0   0   0   0   0   0   0\n",
      "   0   0   0   0   0   0   0   0   8   2   0   0   0   0   0   0   0   0   0   0   2   0   0   0   0   0   0   0\n",
      "   0   0   0   0   0   0   0   0   1  70   0   0   7   0   0   0   0   0   0   0   1   0   0   0   0   0   0   0\n",
      "   0   0   0   0   0   0   0   0   0   0   0   0   0   0   0   0   0   0   0   0   0   0   0   0   0   0   0   0\n",
      "   0   0   0   0   0   0   0   0   0   0   0   0   0   0   0   0   0   0   0   0   0   0   0   0   0   0   0   0\n",
      "   0   0   0   0   0   0   0   0   0   3   0   0  23   0   0   0   1   0   0   0   0   0   0   0   0   0   0   0\n",
      "   0   0   0   0   0   0   0   0   0   2   0   0   0   0   0   0   0   0   0   0   0   0   0   0   0   0   0   0\n",
      "   0   0   0   0   0   0   0   0   0   0   0   0   0   0   1   0   0   0   0   0   0   0   0   0   0   0   0   0\n",
      "   0   0   0   0   0   0   0   0   0   0   0   0   1   0   0   1   0   2   0   0   0   0   0   0   0   0   0   0\n",
      "   0   0   0   0   0   0   0   0   0   1   0   0   0   0   0   0   0   3   0   0   0   0   0   0   0   0   0   0\n",
      "   0   0   0   0   0   0   0   0   0   1   0   0   0   0   0   0   0   8   0   0   0   0   0   0   0   0   0   0\n",
      "   0   0   0   0   0   0   0   0   0   0   0   0   0   0   0   0   1   0   0   0   0   0   0   0   0   0   0   0\n",
      "   0   0   0   0   0   0   0   0   0   0   0   0   0   0   0   0   0   0   0   0   0   0   0   0   0   0   0   0\n",
      "   0   0   0   0   0   0   0   0   2   4   0   0   0   0   0   2   0   3   0   0  28   0   0   0   0   0   0   0\n",
      "   0   0   0   0   0   0   0   0   0   1   0   0   0   0   0   0   0   0   0   0   0   0   0   0   0   0   0   0\n",
      "   0   0   0   0   0   0   0   0   0   0   0   0   0   0   0   0   0   0   0   0   0   0   1   0   0   0   0   0\n",
      "   0   0   0   0   0   0   0   0   0   0   0   0   0   0   0   0   0   0   0   0   0   0   0   0   0   0   0   0\n",
      "   0   0   0   0   0   0   0   0   0   1   0   0   1   0   0   0   0   0   0   0   0   0   0   0   0   0   0   0\n",
      "   0   0   0   0   0   0   0   0   0   0   0   0   0   0   0   0   0   0   0   0   0   0   0   0   0   0   0   0\n",
      "   0   0   0   0   0   0   0   0   0   0   0   0   1   0   0   0   0   0   0   0   0   0   0   0   0   0   1   0\n",
      "   0   0   0   0   0   0   0   0   0   1   0   0   0   0   0   0   0   0   0   0   0   0   0   0   0   0   0   0\n"
     ]
    }
   ],
   "source": [
    "\n",
    "from sklearn.metrics import confusion_matrix\n",
    "\n",
    "y_true = y_te\n",
    "y_pred = rf_predictions\n",
    "classes = list(set(y))\n",
    "\n",
    "confused= confusion_matrix(y_true, y_pred, labels=classes)\n",
    "A = confused\n",
    "print(confused.shape)\n",
    "print('\\n'.join([''.join(['{:4}'.format(item) for item in row]) \n",
    "      for row in A]))\n"
   ]
  },
  {
   "cell_type": "code",
   "execution_count": 54,
   "metadata": {},
   "outputs": [],
   "source": [
    "def plot_confusion_matrix(cm, classes,\n",
    "                          normalize=False,\n",
    "                          title='Confusion matrix',\n",
    "                          cmap=plt.cm.Blues):\n",
    "\n",
    "    if normalize:\n",
    "        cm = cm.astype('float') / cm.sum(axis=1)[:, np.newaxis]\n",
    "        print(\"Normalized confusion matrix\")\n",
    "    else:\n",
    "        print('Confusion matrix, without normalization')\n",
    "\n",
    "    #print(cm)\n",
    "\n",
    "    plt.imshow(cm, interpolation='nearest', cmap=cmap)\n",
    "    plt.title(title)\n",
    "    plt.colorbar()\n",
    "    tick_marks = np.arange(len(classes))\n",
    "    plt.xticks(tick_marks, classes, rotation=45)\n",
    "    plt.yticks(tick_marks, classes)\n",
    "\n",
    "    fmt = '.2f' if normalize else 'd'\n",
    "    thresh = cm.max() / 2.\n",
    "    for i, j in itertools.product(range(cm.shape[0]), range(cm.shape[1])):\n",
    "        plt.text(j, i, format(cm[i, j], fmt),\n",
    "                 horizontalalignment=\"center\",\n",
    "                 color=\"white\" if cm[i, j] > thresh else \"black\")\n",
    "\n",
    "    plt.ylabel('True label')\n",
    "    plt.xlabel('Predicted label')\n",
    "    plt.figure(figsize=(200,360))\n",
    "    #plt.tight_layout()"
   ]
  },
  {
   "cell_type": "code",
   "execution_count": 55,
   "metadata": {
    "scrolled": true
   },
   "outputs": [
    {
     "name": "stdout",
     "output_type": "stream",
     "text": [
      "Confusion matrix, without normalization\n"
     ]
    },
    {
     "data": {
      "image/png": "[encoded data removed]",
      "text/plain": [
       "<Figure size 432x288 with 2 Axes>"
      ]
     },
     "metadata": {
      "needs_background": "light"
     },
     "output_type": "display_data"
    },
    {
     "data": {
      "text/plain": [
       "<Figure size 14400x25920 with 0 Axes>"
      ]
     },
     "metadata": {},
     "output_type": "display_data"
    }
   ],
   "source": [
    "cnf_matrix = confused\n",
    "np.set_printoptions(precision=2)\n",
    "import itertools\n",
    "\n",
    "# Plot non-normalized confusion matrix\n",
    "plt.figure()\n",
    "plot_confusion_matrix(cnf_matrix, classes=classes,\n",
    "                      title='Confusion matrix, without normalization')"
   ]
  },
  {
   "cell_type": "code",
   "execution_count": 67,
   "metadata": {},
   "outputs": [
    {
     "name": "stderr",
     "output_type": "stream",
     "text": [
      "/opt/anaconda3/lib/python3.7/site-packages/sklearn/multiclass.py:76: UserWarning: Label not 27 is present in all training examples.\n",
      "  str(classes[c]))\n",
      "/opt/anaconda3/lib/python3.7/site-packages/sklearn/metrics/ranking.py:656: UndefinedMetricWarning: No positive samples in y_true, true positive value should be meaningless\n",
      "  UndefinedMetricWarning)\n"
     ]
    }
   ],
   "source": [
    "#try to get the RUC/AUC curve?\n",
    "from sklearn.preprocessing import label_binarize\n",
    "from sklearn.metrics import roc_curve, auc\n",
    "from sklearn.multiclass import OneVsRestClassifier\n",
    "\n",
    "\n",
    "#X_tr, X_te, y_tr, y_te = train_test_split(X, y, test_size=0.2)\n",
    "classifier2 = OneVsRestClassifier(RandomForestClassifier(n_estimators=100))\n",
    "y_tr2 = label_binarize(y_tr,classes=classes)\n",
    "y_te2 = label_binarize(y_te,classes=classes)\n",
    "y_score2 = classifier2.fit(X_tr, y_tr2).predict(X_te)\n",
    "\n",
    "n_classes = len(classes)\n",
    "\n",
    "fpr = dict()\n",
    "tpr = dict()\n",
    "roc_auc = dict()\n",
    "for i in range(n_classes):\n",
    "    fpr[i], tpr[i], _ = roc_curve(y_te2[:, i], y_score2[:, i])\n",
    "    roc_auc[i] = auc(fpr[i], tpr[i])\n",
    "\n",
    "fpr[\"micro\"], tpr[\"micro\"], _ = roc_curve(y_te2.ravel(), y_score2.ravel())\n",
    "roc_auc[\"micro\"] = auc(fpr[\"micro\"], tpr[\"micro\"])\n",
    "\n",
    "\n",
    "# from collections import Counter\n",
    "# Counter(y_true) # y_true must be your labels\n",
    "\n"
   ]
  },
  {
   "cell_type": "code",
   "execution_count": 76,
   "metadata": {},
   "outputs": [
    {
     "data": {
      "image/png": "[encoded data removed]",
      "text/plain": [
       "<Figure size 432x288 with 1 Axes>"
      ]
     },
     "metadata": {
      "needs_background": "light"
     },
     "output_type": "display_data"
    }
   ],
   "source": [
    "from scipy import interp\n",
    "from itertools import cycle\n",
    "import math\n",
    "\n",
    "lw=2\n",
    "all_fpr = np.unique(np.concatenate([fpr[i] for i in range(n_classes)]))\n",
    "\n",
    "# Then interpolate all ROC curves at this points\n",
    "mean_tpr = np.zeros_like(all_fpr)\n",
    "for i in range(n_classes):\n",
    "    mean_tpr += interp(all_fpr, fpr[i], tpr[i])\n",
    "\n",
    "# Finally average it and compute AUC\n",
    "mean_tpr /= n_classes\n",
    "\n",
    "fpr[\"macro\"] = all_fpr\n",
    "tpr[\"macro\"] = mean_tpr\n",
    "roc_auc[\"macro\"] = auc(fpr[\"macro\"], tpr[\"macro\"])\n",
    "\n",
    "# Plot all ROC curves\n",
    "plt.figure()\n",
    "plt.plot(fpr[\"micro\"], tpr[\"micro\"],\n",
    "         label='micro-average ROC curve (area = {0:0.2f})'\n",
    "               ''.format(roc_auc[\"micro\"]),\n",
    "         color='deeppink', linestyle=':', linewidth=4)\n",
    "\n",
    "# plt.plot(fpr[\"macro\"], tpr[\"macro\"],\n",
    "#          label='macro-average ROC curve (area = {0:0.2f})'\n",
    "#                ''.format(roc_auc[\"macro\"]),\n",
    "#          color='navy', linestyle=':', linewidth=4)\n",
    "\n",
    "colors = cycle(['aqua', 'darkorange', 'cornflowerblue'])\n",
    "for i, color in zip(range(20), colors):\n",
    "    if not math.isnan(roc_auc[i]):\n",
    "        if np.count_nonzero(y_te == i) > 2:\n",
    "            \n",
    "            plt.plot(fpr[i], tpr[i], color=color, lw=lw,\n",
    "                     label='ROC curve of class {0} (area = {1:0.2f})'\n",
    "                     ''.format(i, roc_auc[i]))\n",
    "\n",
    "plt.plot([0, 1], [0, 1], 'k--', lw=lw)\n",
    "plt.xlim([0.0, 1.0])\n",
    "plt.ylim([0.0, 1.05])\n",
    "plt.xlabel('False Positive Rate')\n",
    "plt.ylabel('True Positive Rate')\n",
    "plt.title('ROC Curves for Classes with >2 Labels in Test Set')\n",
    "#plt.legend(loc=\"lower right\")\n",
    "plt.legend(loc='upper center', bbox_to_anchor=(0.5, -0.05),\n",
    "          fancybox=True, shadow=True, ncol=5)\n",
    "plt.show()"
   ]
  },
  {
   "cell_type": "code",
   "execution_count": null,
   "metadata": {},
   "outputs": [],
   "source": []
  }
 ],
 "metadata": {
  "kernelspec": {
   "display_name": "Python 3",
   "language": "python",
   "name": "python3"
  },
  "language_info": {
   "codemirror_mode": {
    "name": "ipython",
    "version": 3
   },
   "file_extension": ".py",
   "mimetype": "text/x-python",
   "name": "python",
   "nbconvert_exporter": "python",
   "pygments_lexer": "ipython3",
   "version": "3.7.1"
  }
 },
 "nbformat": 4,
 "nbformat_minor": 2
}
